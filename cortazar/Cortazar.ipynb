{
 "cells": [
  {
   "cell_type": "code",
   "execution_count": 1,
   "metadata": {
    "collapsed": true
   },
   "outputs": [],
   "source": [
    "import numpy as np"
   ]
  },
  {
   "cell_type": "markdown",
   "metadata": {},
   "source": [
    "https://arxiv.org/pdf/1409.2329.pdf\n",
    "\n",
    "https://arxiv.org/pdf/1512.05287.pdf\n",
    "\n",
    "http://www.cs.toronto.edu/~graves/preprint.pdf\n",
    "\n",
    "https://machinelearningmastery.com/understanding-stateful-lstm-recurrent-neural-networks-python-keras/"
   ]
  },
  {
   "cell_type": "markdown",
   "metadata": {},
   "source": [
    "## Leo cuentos completos"
   ]
  },
  {
   "cell_type": "code",
   "execution_count": 2,
   "metadata": {},
   "outputs": [
    {
     "name": "stdout",
     "output_type": "stream",
     "text": [
      "our original text has 735543 characters\n"
     ]
    }
   ],
   "source": [
    "text = open('cortazar.txt').read()\n",
    "print('our original text has ' + str(len(text)) + ' characters')"
   ]
  },
  {
   "cell_type": "markdown",
   "metadata": {},
   "source": [
    "### Imprimo primeros 1000 caracteres"
   ]
  },
  {
   "cell_type": "code",
   "execution_count": 3,
   "metadata": {},
   "outputs": [
    {
     "name": "stdout",
     "output_type": "stream",
     "text": [
      "PLAGIOS Y TRADUCCIONES\n",
      "I. EL HIJO DEL VAMPIRO\n",
      "PROBABLEMENTE todos los fantasmas sabían que Duggu Van\n",
      "era un vampiro. No le tenían miedo pero le dejaban paso\n",
      "cuando él salía de su tumba a la hora precisa de medianoche\n",
      "y entraba al antiguo castillo en procura de su alimento\n",
      "favorito.\n",
      "El rostro de Duggu Van no era agradable. La mucha\n",
      "sangre bebida desde su muerte aparente —en el 1060, a\n",
      "manos de un niño, nuevo David armado de una hondapuñal—\n",
      "había infiltrado en su opaca piel la coloración\n",
      "blanda de las maderas que han estado mucho tiempo debajo\n",
      "del agua. Lo único vivo, en esa cara, eran los ojos.\n",
      "Ojos fijos en la figura de Lady Vanda, dormida como un\n",
      "bebé en el lecho que no conocía más que su liviano cuerpo.\n",
      "Duggu Van caminaba sin hacer ruido. La mezcla de\n",
      "vida y muerte que informaba su corazón se resolvía en\n",
      "cualidades inhumanas. Vestido de azul oscuro, acompa-\n",
      "ñado siempre por un silencioso séquito de perfumes rancios,\n",
      "el vampiro paseaba por las galerías del castillo bus-\n",
      "20\n",
      "cando vivos\n"
     ]
    }
   ],
   "source": [
    "print(text[:1000])"
   ]
  },
  {
   "cell_type": "markdown",
   "metadata": {},
   "source": [
    "### Quito numeracíon de páginas"
   ]
  },
  {
   "cell_type": "code",
   "execution_count": 4,
   "metadata": {},
   "outputs": [
    {
     "name": "stdout",
     "output_type": "stream",
     "text": [
      "['20\\n', '21\\n', '22\\n', '23\\n', '25\\n', '26\\n', '27\\n', '28\\n', '29\\n', '30\\n', '31\\n', '32\\n', '33\\n', '34\\n', '69\\n', '70\\n', '71\\n', '72\\n', '73\\n', '74\\n', '76\\n', '77\\n', '78\\n', '79\\n', '80\\n', '81\\n', '82\\n', '83\\n', '84\\n', '85\\n', '87\\n', '88\\n', '89\\n', '90\\n', '91\\n', '92\\n', '93\\n', '94\\n', '95\\n', '96\\n', '97\\n', '99\\n', '100\\n', '101\\n', '102\\n', '103\\n', '104\\n', '105\\n', '106\\n', '107\\n', '109\\n', '110\\n', '111\\n', '112\\n', '113\\n', '114\\n', '115\\n', '116\\n', '117\\n', '118\\n', '119\\n', '120\\n', '121\\n', '122\\n', '124\\n', '125\\n', '126\\n', '127\\n', '128\\n', '129\\n', '130\\n', '131\\n', '132\\n', '133\\n', '134\\n', '135\\n', '136\\n', '137\\n', '138\\n', '139\\n', '140\\n', '142\\n', '143\\n', '144\\n', '145\\n', '146\\n', '147\\n', '148\\n', '149\\n', '150\\n', '151\\n', '152\\n', '153\\n', '154\\n', '155\\n', '156\\n', '157\\n', '158\\n', '160\\n', '161\\n', '162\\n', '163\\n', '164\\n', '165\\n', '166\\n', '167\\n', '168\\n', '169\\n', '170\\n', '177\\n', '178\\n', '180\\n', '181\\n', '182\\n', '183\\n', '184\\n', '186\\n', '187\\n', '188\\n', '190\\n', '191\\n', '192\\n', '193\\n', '194\\n', '195\\n', '196\\n', '197\\n', '198\\n', '199\\n', '200\\n', '201\\n', '202\\n', '203\\n', '204\\n', '206\\n', '207\\n', '208\\n', '209\\n', '210\\n', '211\\n', '212\\n', '213\\n', '214\\n', '216\\n', '217\\n', '218\\n', '219\\n', '220\\n', '221\\n', '222\\n', '223\\n', '225\\n', '226\\n', '227\\n', '228\\n', '229\\n', '230\\n', '231\\n', '245\\n', '246\\n', '247\\n', '248\\n', '249\\n', '250\\n', '251\\n', '252\\n', '253\\n', '254\\n', '255\\n', '256\\n', '257\\n', '258\\n', '259\\n', '261\\n', '262\\n', '263\\n', '264\\n', '265\\n', '266\\n', '267\\n', '268\\n', '269\\n', '271\\n', '272\\n', '273\\n', '274\\n', '275\\n', '276\\n', '277\\n', '278\\n', '280\\n', '281\\n', '282\\n', '283\\n', '284\\n', '286\\n', '287\\n', '289\\n', '290\\n', '291\\n', '292\\n', '293\\n', '294\\n', '295\\n', '296\\n', '297\\n', '298\\n', '300\\n', '301\\n', '302\\n', '303\\n', '304\\n', '305\\n', '307\\n', '308\\n', '309\\n', '310\\n', '311\\n', '312\\n', '313\\n', '314\\n', '315\\n', '317\\n', '318\\n', '319\\n', '320\\n', '321\\n', '322\\n', '323\\n', '324\\n', '325\\n', '326\\n', '327\\n', '328\\n', '329\\n', '342\\n', '343\\n', '344\\n', '345\\n', '346\\n', '347\\n', '348\\n', '349\\n', '350\\n', '351\\n', '352\\n', '353\\n', '354\\n', '355\\n', '356\\n', '357\\n', '358\\n', '359\\n', '360\\n', '361\\n', '362\\n', '363\\n', '373\\n', '374\\n', '375\\n', '376\\n', '377\\n', '378\\n', '379\\n', '380\\n', '381\\n', '382\\n', '383\\n', '384\\n', '385\\n', '386\\n', '387\\n', '388\\n', '389\\n', '391\\n', '392\\n', '393\\n', '394\\n', '395\\n', '396\\n', '398\\n', '399\\n', '400\\n', '401\\n', '402\\n', '403\\n', '404\\n', '405\\n', '406\\n', '407\\n', '408\\n', '409\\n', '410\\n', '411\\n', '412\\n', '413\\n', '414\\n', '415\\n', '416\\n', '417\\n', '418\\n', '419\\n', '420\\n', '421\\n', '422\\n', '423\\n', '424\\n', '425\\n', '426\\n', '427\\n', '428\\n', '429\\n', '430\\n', '431\\n', '432\\n', '433\\n', '434\\n', '435\\n', '436\\n', '437\\n', '438\\n', '439\\n', '440\\n', '441\\n', '442\\n', '443\\n', '444\\n', '445\\n', '446\\n', '447\\n', '448\\n', '449\\n', '450\\n', '451\\n', '452\\n', '453\\n', '454\\n', '455\\n', '456\\n', '457\\n', '458\\n', '459\\n', '460\\n', '461\\n', '462\\n', '463\\n', '483\\n', '484\\n', '485\\n', '486\\n', '487\\n', '488\\n', '489\\n', '490\\n', '491\\n', '492\\n', '493\\n', '494\\n', '497\\n', '498\\n', '499\\n', '500\\n', '501\\n', '502\\n', '503\\n', '504\\n', '505\\n', '506\\n', '507\\n', '508\\n', '509\\n', '510\\n', '511\\n', '512\\n', '513\\n', '514\\n', '517\\n', '518\\n', '519\\n', '520\\n', '521\\n', '522\\n', '523\\n', '524\\n', '527\\n', '528\\n', '529\\n', '530\\n', '531\\n', '532\\n', '533\\n', '534\\n', '535\\n', '536\\n', '537\\n', '538\\n', '539\\n', '540\\n', '541\\n', '542\\n', '543\\n', '544\\n', '545\\n', '546\\n', '547\\n', '548\\n']\n"
     ]
    }
   ],
   "source": [
    "i = 0\n",
    "numbers=[]\n",
    "while i<len(text):\n",
    "    number = ''\n",
    "    while text[i] in ['0','1','2','3','4','5','6','7','8','9']:\n",
    "        number=number+text[i]\n",
    "        i += 1\n",
    "    if len(number)>0:\n",
    "        if text[i-len(number)-1]=='\\n' and text[i]=='\\n':\n",
    "            numbers.append(number+'\\n')\n",
    "    i += 1\n",
    "print(numbers)"
   ]
  },
  {
   "cell_type": "markdown",
   "metadata": {},
   "source": [
    "### Quito caracteres no frecuentes"
   ]
  },
  {
   "cell_type": "code",
   "execution_count": 5,
   "metadata": {
    "collapsed": true
   },
   "outputs": [],
   "source": [
    "text_cleaned = text\n",
    "for num in numbers:\n",
    "    text_cleaned = text_cleaned.replace(num,'')\n",
    "text_cleaned = text_cleaned.replace('–','-').replace('[','(').replace(']',')'). \\\n",
    "                replace(\"'\",'\"').replace(\"—\",'-').replace(\"”\", '\"').replace('“','\"').replace('‘','\"').\\\n",
    "                replace(\"«\",'\"').replace(\"»\",'\"').replace('‚',',').replace('*','').replace('ô','o').replace('´',' ').\\\n",
    "                replace('°',' ').replace('º',' ').replace('/',' ')"
   ]
  },
  {
   "cell_type": "markdown",
   "metadata": {},
   "source": [
    "### Imprimo primeros 1000 caracteres limpios"
   ]
  },
  {
   "cell_type": "code",
   "execution_count": 6,
   "metadata": {},
   "outputs": [
    {
     "name": "stdout",
     "output_type": "stream",
     "text": [
      "PLAGIOS Y TRADUCCIONES\n",
      "I. EL HIJO DEL VAMPIRO\n",
      "PROBABLEMENTE todos los fantasmas sabían que Duggu Van\n",
      "era un vampiro. No le tenían miedo pero le dejaban paso\n",
      "cuando él salía de su tumba a la hora precisa de medianoche\n",
      "y entraba al antiguo castillo en procura de su alimento\n",
      "favorito.\n",
      "El rostro de Duggu Van no era agradable. La mucha\n",
      "sangre bebida desde su muerte aparente -en el 1060, a\n",
      "manos de un niño, nuevo David armado de una hondapuñal-\n",
      "había infiltrado en su opaca piel la coloración\n",
      "blanda de las maderas que han estado mucho tiempo debajo\n",
      "del agua. Lo único vivo, en esa cara, eran los ojos.\n",
      "Ojos fijos en la figura de Lady Vanda, dormida como un\n",
      "bebé en el lecho que no conocía más que su liviano cuerpo.\n",
      "Duggu Van caminaba sin hacer ruido. La mezcla de\n",
      "vida y muerte que informaba su corazón se resolvía en\n",
      "cualidades inhumanas. Vestido de azul oscuro, acompa-\n",
      "ñado siempre por un silencioso séquito de perfumes rancios,\n",
      "el vampiro paseaba por las galerías del castillo bus-\n",
      "cando vivos de\n"
     ]
    }
   ],
   "source": [
    "print(text_cleaned[:1000])"
   ]
  },
  {
   "cell_type": "markdown",
   "metadata": {},
   "source": [
    "### Defino train y validation set"
   ]
  },
  {
   "cell_type": "code",
   "execution_count": 24,
   "metadata": {},
   "outputs": [
    {
     "name": "stdout",
     "output_type": "stream",
     "text": [
      "AXOLOTL\n",
      "HUBO un tiempo en que yo pensaba mucho en los axolotl.\n",
      "Iba a verlos al acuario del Jardín des Plantes y me quedaba\n",
      "horas mirándolos, observando su inmovilidad, sus\n",
      "oscuros movimientos. Ahora soy un axolotl.\n",
      "El azar me llevó hasta ellos una mañana de primavera\n",
      "en que París abría su cola de pavo real después de la\n",
      "lenta invernada. Bajé por el bulevar de Port Royal, tomé\n",
      "St. Marcel y L’Hopita\n"
     ]
    }
   ],
   "source": [
    "validation_index = text_cleaned.find('AXOLOTL')\n",
    "print(text_cleaned[validation_index:validation_index+400])"
   ]
  },
  {
   "cell_type": "code",
   "execution_count": 25,
   "metadata": {},
   "outputs": [
    {
     "name": "stdout",
     "output_type": "stream",
     "text": [
      "383053\n",
      "351034\n"
     ]
    }
   ],
   "source": [
    "text_train = text_cleaned[:validation_index]\n",
    "text_validation = text_cleaned[validation_index:]\n",
    "print(len(text_train))\n",
    "print(len(text_validation))"
   ]
  },
  {
   "cell_type": "markdown",
   "metadata": {},
   "source": [
    "### Defino cantidad de clases (caracteres)"
   ]
  },
  {
   "cell_type": "code",
   "execution_count": 26,
   "metadata": {},
   "outputs": [
    {
     "name": "stdout",
     "output_type": "stream",
     "text": [
      "this corpus has 734087 total number of characters\n",
      "this corpus has 88 unique characters\n"
     ]
    }
   ],
   "source": [
    "# count the number of unique characters in the text\n",
    "chars_train = set(text_train)\n",
    "chars_test = set(text_validation)\n",
    "chars_set = chars_train.intersection(chars_test)\n",
    "chars = sorted(list(chars_set))\n",
    "\n",
    "# print some of the text, as well as statistics\n",
    "print (\"this corpus has \" +  str(len(text_cleaned)) + \" total number of characters\")\n",
    "print (\"this corpus has \" +  str(len(chars)) + \" unique characters\")"
   ]
  },
  {
   "cell_type": "code",
   "execution_count": 10,
   "metadata": {
    "collapsed": true
   },
   "outputs": [],
   "source": [
    "from collections import Counter"
   ]
  },
  {
   "cell_type": "code",
   "execution_count": 11,
   "metadata": {},
   "outputs": [
    {
     "data": {
      "text/plain": [
       "[(' ', 118621),\n",
       " ('a', 75540),\n",
       " ('e', 73036),\n",
       " ('o', 52626),\n",
       " ('s', 40959),\n",
       " ('n', 38909),\n",
       " ('r', 37276),\n",
       " ('l', 32903),\n",
       " ('i', 28156),\n",
       " ('d', 26654),\n",
       " ('u', 23652),\n",
       " ('t', 22723),\n",
       " ('c', 21882),\n",
       " ('m', 17126),\n",
       " ('p', 14254),\n",
       " ('\\n', 13734),\n",
       " ('b', 9820),\n",
       " (',', 9195),\n",
       " ('y', 6775),\n",
       " ('q', 6764),\n",
       " ('h', 6279),\n",
       " ('.', 6240),\n",
       " ('v', 5883),\n",
       " ('g', 5654),\n",
       " ('í', 4888),\n",
       " ('f', 3266),\n",
       " ('j', 2955),\n",
       " ('ó', 2779),\n",
       " ('á', 2689),\n",
       " ('z', 2577),\n",
       " ('é', 2405),\n",
       " ('E', 1247),\n",
       " ('-', 1195),\n",
       " ('L', 1190),\n",
       " ('A', 1076),\n",
       " ('ñ', 934),\n",
       " ('P', 787),\n",
       " ('C', 758),\n",
       " ('M', 751),\n",
       " ('N', 737),\n",
       " ('S', 734),\n",
       " ('D', 618),\n",
       " ('ú', 599),\n",
       " ('\"', 522),\n",
       " ('T', 496),\n",
       " ('x', 490),\n",
       " ('R', 485),\n",
       " ('J', 454),\n",
       " ('Y', 424),\n",
       " (';', 384),\n",
       " ('B', 351),\n",
       " ('I', 329),\n",
       " ('O', 289),\n",
       " ('H', 287),\n",
       " ('U', 284),\n",
       " ('(', 278),\n",
       " (')', 277),\n",
       " (':', 263),\n",
       " ('V', 197),\n",
       " ('?', 173),\n",
       " ('¿', 170),\n",
       " ('Q', 128),\n",
       " ('F', 125),\n",
       " ('G', 107),\n",
       " ('k', 102),\n",
       " ('1', 81),\n",
       " ('2', 58),\n",
       " ('3', 47),\n",
       " ('4', 41),\n",
       " ('É', 40),\n",
       " ('w', 37),\n",
       " ('¡', 32),\n",
       " ('!', 32),\n",
       " ('5', 32),\n",
       " ('8', 22),\n",
       " ('6', 21),\n",
       " ('0', 18),\n",
       " ('9', 18),\n",
       " ('ü', 18),\n",
       " ('Ó', 16),\n",
       " ('’', 16),\n",
       " ('Á', 16),\n",
       " ('Í', 15),\n",
       " ('7', 15),\n",
       " ('K', 12),\n",
       " ('W', 9),\n",
       " ('Z', 8),\n",
       " ('Ú', 7),\n",
       " ('X', 4),\n",
       " ('è', 3),\n",
       " ('î', 3),\n",
       " ('â', 2),\n",
       " ('&', 2),\n",
       " ('Ñ', 1)]"
      ]
     },
     "execution_count": 11,
     "metadata": {},
     "output_type": "execute_result"
    }
   ],
   "source": [
    "Counter(text_cleaned).most_common()"
   ]
  },
  {
   "cell_type": "markdown",
   "metadata": {},
   "source": [
    "### Funcion para dar formato a la entrada/salida de la red"
   ]
  },
  {
   "cell_type": "code",
   "execution_count": 12,
   "metadata": {
    "collapsed": true
   },
   "outputs": [],
   "source": [
    "def window_transform_text(text, window_size, step_size):\n",
    "    # containers for input/output pairs\n",
    "    inputs = []\n",
    "    outputs = []\n",
    "    \n",
    "    # This is the number of iterations taking into acount the step_size and the window_size\n",
    "    N = int((len(text)-window_size)/step_size)\n",
    "    # Get inputs and outputs\n",
    "    for k in range(N):\n",
    "        i = k*step_size\n",
    "        inputs.append(text[i:i+window_size])\n",
    "        outputs.append(text[i+window_size])\n",
    "        \n",
    "    return inputs,outputs"
   ]
  },
  {
   "cell_type": "code",
   "execution_count": 13,
   "metadata": {
    "collapsed": true
   },
   "outputs": [],
   "source": [
    "# run your text window-ing function \n",
    "window_size = 100\n",
    "step_size = 3\n",
    "inputs, outputs = window_transform_text(text_train,window_size,step_size)"
   ]
  },
  {
   "cell_type": "code",
   "execution_count": 14,
   "metadata": {},
   "outputs": [
    {
     "name": "stdout",
     "output_type": "stream",
     "text": [
      "input = PLAGIOS Y TRADUCCIONES\n",
      "I. EL HIJO DEL VAMPIRO\n",
      "PROBABLEMENTE todos los fantasmas sabían que Duggu Van\n",
      "output = \n",
      "\n",
      "--------------\n",
      "input = GIOS Y TRADUCCIONES\n",
      "I. EL HIJO DEL VAMPIRO\n",
      "PROBABLEMENTE todos los fantasmas sabían que Duggu Van\n",
      "er\n",
      "output = a\n"
     ]
    }
   ],
   "source": [
    "# print out a few of the input/output pairs to verify that we've made the right kind of stuff to learn from\n",
    "print('input = ' + inputs[0])\n",
    "print('output = ' + outputs[0])\n",
    "print('--------------')\n",
    "print('input = ' + inputs[1])\n",
    "print('output = ' + outputs[1])"
   ]
  },
  {
   "cell_type": "code",
   "execution_count": 30,
   "metadata": {
    "collapsed": true
   },
   "outputs": [],
   "source": [
    "# this dictionary is a function mapping each unique character to a unique integer\n",
    "chars_to_indices = dict((c, i) for i, c in enumerate(chars))  # map each unique character to unique integer\n",
    "\n",
    "# this dictionary is a function mapping each unique integer back to a unique character\n",
    "indices_to_chars = dict((i, c) for i, c in enumerate(chars))  # map each unique integer back to unique character"
   ]
  },
  {
   "cell_type": "code",
   "execution_count": 16,
   "metadata": {},
   "outputs": [
    {
     "data": {
      "text/plain": [
       "{'\\n': 0,\n",
       " ' ': 1,\n",
       " '!': 2,\n",
       " '\"': 3,\n",
       " '(': 4,\n",
       " ')': 5,\n",
       " ',': 6,\n",
       " '-': 7,\n",
       " '.': 8,\n",
       " '0': 9,\n",
       " '1': 10,\n",
       " '2': 11,\n",
       " '3': 12,\n",
       " '4': 13,\n",
       " '5': 14,\n",
       " '7': 15,\n",
       " '8': 16,\n",
       " '9': 17,\n",
       " ':': 18,\n",
       " ';': 19,\n",
       " '?': 20,\n",
       " 'A': 21,\n",
       " 'B': 22,\n",
       " 'C': 23,\n",
       " 'D': 24,\n",
       " 'E': 25,\n",
       " 'F': 26,\n",
       " 'G': 27,\n",
       " 'H': 28,\n",
       " 'I': 29,\n",
       " 'J': 30,\n",
       " 'K': 31,\n",
       " 'L': 32,\n",
       " 'M': 33,\n",
       " 'N': 34,\n",
       " 'O': 35,\n",
       " 'P': 36,\n",
       " 'Q': 37,\n",
       " 'R': 38,\n",
       " 'S': 39,\n",
       " 'T': 40,\n",
       " 'U': 41,\n",
       " 'V': 42,\n",
       " 'W': 43,\n",
       " 'Y': 44,\n",
       " 'Z': 45,\n",
       " 'a': 46,\n",
       " 'b': 47,\n",
       " 'c': 48,\n",
       " 'd': 49,\n",
       " 'e': 50,\n",
       " 'f': 51,\n",
       " 'g': 52,\n",
       " 'h': 53,\n",
       " 'i': 54,\n",
       " 'j': 55,\n",
       " 'k': 56,\n",
       " 'l': 57,\n",
       " 'm': 58,\n",
       " 'n': 59,\n",
       " 'o': 60,\n",
       " 'p': 61,\n",
       " 'q': 62,\n",
       " 'r': 63,\n",
       " 's': 64,\n",
       " 't': 65,\n",
       " 'u': 66,\n",
       " 'v': 67,\n",
       " 'w': 68,\n",
       " 'x': 69,\n",
       " 'y': 70,\n",
       " 'z': 71,\n",
       " '¡': 72,\n",
       " '¿': 73,\n",
       " 'Á': 74,\n",
       " 'É': 75,\n",
       " 'Í': 76,\n",
       " 'Ó': 77,\n",
       " 'Ú': 78,\n",
       " 'á': 79,\n",
       " 'è': 80,\n",
       " 'é': 81,\n",
       " 'í': 82,\n",
       " 'ñ': 83,\n",
       " 'ó': 84,\n",
       " 'ú': 85,\n",
       " 'ü': 86,\n",
       " '’': 87}"
      ]
     },
     "execution_count": 16,
     "metadata": {},
     "output_type": "execute_result"
    }
   ],
   "source": [
    "len(chars_to_indices)\n",
    "chars_to_indices"
   ]
  },
  {
   "cell_type": "markdown",
   "metadata": {},
   "source": [
    "### One-hot encoding"
   ]
  },
  {
   "cell_type": "code",
   "execution_count": 28,
   "metadata": {
    "collapsed": true
   },
   "outputs": [],
   "source": [
    "# transform character-based input/output into equivalent numerical versions\n",
    "def encode_io_pairs(text,chars, window_size,step_size):\n",
    "    num_chars = len(chars)\n",
    "    \n",
    "    # cut up text into character input/output pairs\n",
    "    inputs, outputs = window_transform_text(text,window_size,step_size)\n",
    "    \n",
    "    # create empty vessels for one-hot encoded input/output\n",
    "    X = np.zeros((len(inputs), window_size, num_chars), dtype=np.bool)\n",
    "    y = np.zeros((len(inputs), num_chars), dtype=np.bool)\n",
    "    \n",
    "    # loop over inputs/outputs and tranform and store in X/y\n",
    "    for i, sentence in enumerate(inputs):\n",
    "        for t, char in enumerate(sentence):\n",
    "            if char not in chars_to_indices:\n",
    "                char = ' '\n",
    "            X[i, t, chars_to_indices[char]] = 1\n",
    "        out_char = outputs[i]\n",
    "        if out_char not in chars_to_indices:\n",
    "            out_char = ' '\n",
    "        y[i, chars_to_indices[out_char]] = 1\n",
    "    return X,y"
   ]
  },
  {
   "cell_type": "code",
   "execution_count": 18,
   "metadata": {
    "collapsed": true
   },
   "outputs": [],
   "source": [
    "# use your function\n",
    "window_size = 100\n",
    "step_size = 1"
   ]
  },
  {
   "cell_type": "code",
   "execution_count": 19,
   "metadata": {
    "collapsed": true
   },
   "outputs": [],
   "source": [
    "X_train, y_train = encode_io_pairs(text_train, chars, window_size,step_size)\n",
    "X_validation, y_validation = encode_io_pairs(text_validation, chars, window_size,step_size)"
   ]
  },
  {
   "cell_type": "code",
   "execution_count": 21,
   "metadata": {},
   "outputs": [
    {
     "name": "stdout",
     "output_type": "stream",
     "text": [
      "(382953, 100, 88) (382953, 88)\n",
      "(350934, 100, 88) (350934, 88)\n"
     ]
    }
   ],
   "source": [
    "print(X_train.shape, y_train.shape)\n",
    "print(X_validation.shape, y_validation.shape)"
   ]
  },
  {
   "cell_type": "markdown",
   "metadata": {},
   "source": [
    "### Defino modelos"
   ]
  },
  {
   "cell_type": "code",
   "execution_count": 19,
   "metadata": {},
   "outputs": [
    {
     "name": "stderr",
     "output_type": "stream",
     "text": [
      "Using TensorFlow backend.\n"
     ]
    }
   ],
   "source": [
    "### necessary functions from the keras library\n",
    "from keras.models import Sequential\n",
    "from keras.layers import Dense, Activation, LSTM, Dropout\n",
    "from keras.optimizers import RMSprop\n",
    "from keras.utils.data_utils import get_file\n",
    "from keras.callbacks import ModelCheckpoint \n",
    "import keras\n",
    "import random"
   ]
  },
  {
   "cell_type": "code",
   "execution_count": 43,
   "metadata": {},
   "outputs": [],
   "source": [
    "def get_simple_rnn():\n",
    "    # Model definition\n",
    "    model = Sequential()\n",
    "    # First layer\n",
    "    model.add(LSTM(200, input_shape =  (window_size,len(chars))))\n",
    "    # Second layer\n",
    "    model.add(Dense(len(chars), activation='softmax'))\n",
    "    # initialize optimizer\n",
    "    # lr=0.001, rho=0.9, epsilon=1e-08, decay=0.0\n",
    "    # optimizer = keras.optimizers.RMSprop(lr=0.01, rho=0.9, epsilon=1e-08, decay=0.0)\n",
    "\n",
    "    # compile model --> make sure initialized optimizer and callbacks - as defined above - are used\n",
    "    model.compile(loss='categorical_crossentropy', optimizer='rmsprop')\n",
    "    #model.summary()\n",
    "    return model\n",
    "\n",
    "def get_deeper_no_rnn_dropout():\n",
    "    # Model definition\n",
    "    model = Sequential()\n",
    "    model.add(LSTM(200, input_shape =  (window_size,len(chars)), return_sequences=True))\n",
    "    model.add(Dropout(0.4))\n",
    "    model.add(LSTM(200, input_shape =  (window_size,len(chars))))\n",
    "    model.add(Dropout(0.4))\n",
    "    model.add(Dense(len(chars), activation='softmax'))\n",
    "    model.compile(loss='categorical_crossentropy', optimizer='rmsprop')\n",
    "    #model.summary()\n",
    "    return model\n",
    "\n",
    "def get_deeper_rnn():\n",
    "    # Model definition\n",
    "    print(\"input shape = \",(window_size,len(chars)))\n",
    "    model = Sequential()\n",
    "    model.add(LSTM(200, input_shape =  (window_size,len(chars)), return_sequences=True, \n",
    "                   dropout=0.2, recurrent_dropout=0.2))\n",
    "    model.add(LSTM(200, input_shape =  (window_size,len(chars)),  \n",
    "                   dropout=0.2, recurrent_dropout=0.2))\n",
    "    model.add(Dense(len(chars), activation='softmax'))\n",
    "    model.compile(loss='categorical_crossentropy', optimizer='rmsprop')\n",
    "    #model.summary()\n",
    "    return model\n",
    "\n",
    "def get_deeper_stateful_rnn(batch_size = 250):\n",
    "    # Model definition\n",
    "    model = Sequential()\n",
    "    model.add(LSTM(200, batch_input_shape =  (batch_size, window_size,len(chars)), return_sequences=True, \n",
    "                   dropout=0.2, recurrent_dropout=0.2, stateful=True))\n",
    "    model.add(LSTM(200, batch_input_shape =  (batch_size, window_size,len(chars)),  \n",
    "                   dropout=0.2, recurrent_dropout=0.2, stateful=True))\n",
    "    model.add(Dense(len(chars), activation='softmax'))\n",
    "    model.compile(loss='categorical_crossentropy', optimizer='rmsprop')\n",
    "    model.summary()\n",
    "    return model"
   ]
  },
  {
   "cell_type": "code",
   "execution_count": 45,
   "metadata": {
    "collapsed": true
   },
   "outputs": [],
   "source": [
    "model = get_deeper_rnn()\n",
    "model.load_weights('best_RNN_dropout_from_48.hdf5')"
   ]
  },
  {
   "cell_type": "code",
   "execution_count": 66,
   "metadata": {},
   "outputs": [
    {
     "name": "stdout",
     "output_type": "stream",
     "text": [
      "_________________________________________________________________\n",
      "Layer (type)                 Output Shape              Param #   \n",
      "=================================================================\n",
      "lstm_21 (LSTM)               (250, 100, 200)           231200    \n",
      "_________________________________________________________________\n",
      "lstm_22 (LSTM)               (250, 200)                320800    \n",
      "_________________________________________________________________\n",
      "dense_7 (Dense)              (250, 88)                 17688     \n",
      "=================================================================\n",
      "Total params: 569,688\n",
      "Trainable params: 569,688\n",
      "Non-trainable params: 0\n",
      "_________________________________________________________________\n"
     ]
    }
   ],
   "source": [
    "# Stateful cell\n",
    "statefull_train_size = int(len(X_train)/batch_size)*batch_size\n",
    "statefull_validation_size = int(len(X_validation)/batch_size)*batch_size\n",
    "X_train_stateful = X_train[:statefull_train_size]\n",
    "y_train_stateful = y_train[:statefull_train_size]\n",
    "X_validation_stateful = X_validation[:statefull_validation_size]\n",
    "y_validation_stateful= y_validation[:statefull_validation_size]\n",
    "\n",
    "batch_size = 250\n",
    "model = get_deeper_stateful_rnn(batch_size=batch_size)\n",
    "model.load_weights('best_RNN_dropout_from_stateful.hdf5')\n",
    "checkpointer = ModelCheckpoint(filepath='best_RNN_dropout_from_stateful_part_2.hdf5', verbose=1, save_best_only=True)"
   ]
  },
  {
   "cell_type": "code",
   "execution_count": 67,
   "metadata": {},
   "outputs": [
    {
     "name": "stdout",
     "output_type": "stream",
     "text": [
      "Train on 382750 samples, validate on 350750 samples\n",
      "Epoch 1/40\n",
      "382500/382750 [============================>.] - ETA: 0s - loss: 1.5686Epoch 00000: val_loss improved from inf to 1.67606, saving model to best_RNN_dropout_from_stateful_part_2.hdf5\n",
      "382750/382750 [==============================] - 565s - loss: 1.5686 - val_loss: 1.6761\n",
      "Epoch 2/40\n",
      "382500/382750 [============================>.] - ETA: 0s - loss: 1.6721Epoch 00001: val_loss did not improve\n",
      "382750/382750 [==============================] - 554s - loss: 1.6726 - val_loss: 2.1746\n",
      "Epoch 3/40\n",
      "382500/382750 [============================>.] - ETA: 0s - loss: 2.6786Epoch 00002: val_loss did not improve\n",
      "382750/382750 [==============================] - 552s - loss: 2.6789 - val_loss: 3.6104\n",
      "Epoch 4/40\n",
      "382500/382750 [============================>.] - ETA: 0s - loss: 4.5096Epoch 00003: val_loss did not improve\n",
      "382750/382750 [==============================] - 551s - loss: 4.5106 - val_loss: 5.6767\n",
      "Epoch 5/40\n",
      "382500/382750 [============================>.] - ETA: 0s - loss: 6.6553Epoch 00004: val_loss did not improve\n",
      "382750/382750 [==============================] - 552s - loss: 6.6557 - val_loss: 7.4478\n",
      "Epoch 6/40\n",
      "382500/382750 [============================>.] - ETA: 0s - loss: 8.2894Epoch 00005: val_loss did not improve\n",
      "382750/382750 [==============================] - 551s - loss: 8.2902 - val_loss: 9.1198\n",
      "Epoch 7/40\n",
      "382500/382750 [============================>.] - ETA: 0s - loss: 9.2684Epoch 00006: val_loss did not improve\n",
      "382750/382750 [==============================] - 551s - loss: 9.2687 - val_loss: 9.3606\n",
      "Epoch 8/40\n",
      "382500/382750 [============================>.] - ETA: 0s - loss: 9.2804Epoch 00007: val_loss did not improve\n",
      "382750/382750 [==============================] - 552s - loss: 9.2805 - val_loss: 9.3486\n",
      "Epoch 9/40\n",
      "382500/382750 [============================>.] - ETA: 0s - loss: 9.2733Epoch 00008: val_loss did not improve\n",
      "382750/382750 [==============================] - 551s - loss: 9.2736 - val_loss: 9.3460\n",
      "Epoch 10/40\n",
      "382500/382750 [============================>.] - ETA: 0s - loss: 9.2676Epoch 00009: val_loss did not improve\n",
      "382750/382750 [==============================] - 551s - loss: 9.2682 - val_loss: 9.3481\n",
      "Epoch 11/40\n",
      "382500/382750 [============================>.] - ETA: 0s - loss: 9.2632Epoch 00010: val_loss did not improve\n",
      "382750/382750 [==============================] - 551s - loss: 9.2635 - val_loss: 9.3416\n",
      "Epoch 12/40\n",
      "382500/382750 [============================>.] - ETA: 0s - loss: 9.2603Epoch 00011: val_loss did not improve\n",
      "382750/382750 [==============================] - 553s - loss: 9.2603 - val_loss: 9.3434\n",
      "Epoch 13/40\n",
      "382500/382750 [============================>.] - ETA: 0s - loss: 9.2569Epoch 00012: val_loss did not improve\n",
      "382750/382750 [==============================] - 551s - loss: 9.2568 - val_loss: 9.3384\n",
      "Epoch 14/40\n",
      "382500/382750 [============================>.] - ETA: 0s - loss: 9.2550Epoch 00013: val_loss did not improve\n",
      "382750/382750 [==============================] - 551s - loss: 9.2549 - val_loss: 9.3382\n",
      "Epoch 15/40\n",
      "382500/382750 [============================>.] - ETA: 0s - loss: 9.2523Epoch 00014: val_loss did not improve\n",
      "382750/382750 [==============================] - 551s - loss: 9.2527 - val_loss: 9.3372\n",
      "Epoch 16/40\n",
      "382500/382750 [============================>.] - ETA: 0s - loss: 9.2506Epoch 00015: val_loss did not improve\n",
      "382750/382750 [==============================] - 551s - loss: 9.2507 - val_loss: 9.3388\n",
      "Epoch 17/40\n",
      "382500/382750 [============================>.] - ETA: 0s - loss: 9.2490Epoch 00016: val_loss did not improve\n",
      "382750/382750 [==============================] - 551s - loss: 9.2491 - val_loss: 9.3339\n",
      "Epoch 18/40\n",
      "382500/382750 [============================>.] - ETA: 0s - loss: 9.2481Epoch 00017: val_loss did not improve\n",
      "382750/382750 [==============================] - 552s - loss: 9.2483 - val_loss: 9.3352\n",
      "Epoch 19/40\n",
      "382500/382750 [============================>.] - ETA: 0s - loss: 9.2462Epoch 00018: val_loss did not improve\n",
      "382750/382750 [==============================] - 551s - loss: 9.2463 - val_loss: 9.3341\n",
      "Epoch 20/40\n",
      "382500/382750 [============================>.] - ETA: 0s - loss: 9.2457Epoch 00019: val_loss did not improve\n",
      "382750/382750 [==============================] - 551s - loss: 9.2459 - val_loss: 9.3362\n",
      "Epoch 21/40\n",
      "382500/382750 [============================>.] - ETA: 0s - loss: 9.2435Epoch 00020: val_loss did not improve\n",
      "382750/382750 [==============================] - 551s - loss: 9.2439 - val_loss: 9.3327\n",
      "Epoch 22/40\n",
      "382500/382750 [============================>.] - ETA: 0s - loss: 9.2433Epoch 00021: val_loss did not improve\n",
      "382750/382750 [==============================] - 552s - loss: 9.2430 - val_loss: 9.3344\n",
      "Epoch 23/40\n",
      "382500/382750 [============================>.] - ETA: 0s - loss: 9.2419Epoch 00022: val_loss did not improve\n",
      "382750/382750 [==============================] - 551s - loss: 9.2416 - val_loss: 9.3344\n",
      "Epoch 24/40\n",
      "382500/382750 [============================>.] - ETA: 0s - loss: 9.2415Epoch 00023: val_loss did not improve\n",
      "382750/382750 [==============================] - 552s - loss: 9.2414 - val_loss: 9.3355\n",
      "Epoch 25/40\n",
      "382500/382750 [============================>.] - ETA: 0s - loss: 9.2408Epoch 00024: val_loss did not improve\n",
      "382750/382750 [==============================] - 551s - loss: 9.2407 - val_loss: 9.3328\n",
      "Epoch 26/40\n",
      "382500/382750 [============================>.] - ETA: 0s - loss: 9.2391Epoch 00025: val_loss did not improve\n",
      "382750/382750 [==============================] - 551s - loss: 9.2394 - val_loss: 9.3318\n",
      "Epoch 27/40\n",
      "382500/382750 [============================>.] - ETA: 0s - loss: 9.2390Epoch 00026: val_loss did not improve\n",
      "382750/382750 [==============================] - 552s - loss: 9.2387 - val_loss: 9.3361\n",
      "Epoch 28/40\n",
      "382500/382750 [============================>.] - ETA: 0s - loss: 9.2379Epoch 00027: val_loss did not improve\n",
      "382750/382750 [==============================] - 551s - loss: 9.2377 - val_loss: 9.3340\n",
      "Epoch 29/40\n",
      "382500/382750 [============================>.] - ETA: 0s - loss: 9.2378Epoch 00028: val_loss did not improve\n",
      "382750/382750 [==============================] - 551s - loss: 9.2373 - val_loss: 9.3334\n",
      "Epoch 30/40\n",
      "382500/382750 [============================>.] - ETA: 0s - loss: 9.2367Epoch 00029: val_loss did not improve\n",
      "382750/382750 [==============================] - 552s - loss: 9.2367 - val_loss: 9.3359\n",
      "Epoch 31/40\n",
      "382500/382750 [============================>.] - ETA: 0s - loss: 9.2362Epoch 00030: val_loss did not improve\n",
      "382750/382750 [==============================] - 552s - loss: 9.2361 - val_loss: 9.3323\n",
      "Epoch 32/40\n",
      "382500/382750 [============================>.] - ETA: 0s - loss: 9.2359Epoch 00031: val_loss did not improve\n",
      "382750/382750 [==============================] - 551s - loss: 9.2358 - val_loss: 9.3352\n",
      "Epoch 33/40\n",
      "382500/382750 [============================>.] - ETA: 0s - loss: 9.2354Epoch 00032: val_loss did not improve\n",
      "382750/382750 [==============================] - 552s - loss: 9.2358 - val_loss: 9.3337\n",
      "Epoch 34/40\n",
      "382500/382750 [============================>.] - ETA: 0s - loss: 9.2351Epoch 00033: val_loss did not improve\n",
      "382750/382750 [==============================] - 552s - loss: 9.2350 - val_loss: 9.3334\n",
      "Epoch 35/40\n",
      "382500/382750 [============================>.] - ETA: 0s - loss: 9.2343Epoch 00034: val_loss did not improve\n",
      "382750/382750 [==============================] - 550s - loss: 9.2346 - val_loss: 9.3352\n",
      "Epoch 36/40\n",
      "382500/382750 [============================>.] - ETA: 0s - loss: 9.2347Epoch 00035: val_loss did not improve\n",
      "382750/382750 [==============================] - 551s - loss: 9.2346 - val_loss: 9.3319\n",
      "Epoch 37/40\n",
      "382500/382750 [============================>.] - ETA: 0s - loss: 9.2340Epoch 00036: val_loss did not improve\n",
      "382750/382750 [==============================] - 551s - loss: 9.2340 - val_loss: 9.3315\n",
      "Epoch 38/40\n",
      "382500/382750 [============================>.] - ETA: 0s - loss: 9.2343Epoch 00037: val_loss did not improve\n",
      "382750/382750 [==============================] - 551s - loss: 9.2343 - val_loss: 9.3371\n",
      "Epoch 39/40\n",
      "382500/382750 [============================>.] - ETA: 0s - loss: 9.2329Epoch 00038: val_loss did not improve\n",
      "382750/382750 [==============================] - 551s - loss: 9.2329 - val_loss: 9.3347\n",
      "Epoch 40/40\n",
      "382500/382750 [============================>.] - ETA: 0s - loss: 9.2333Epoch 00039: val_loss did not improve\n",
      "382750/382750 [==============================] - 552s - loss: 9.2335 - val_loss: 9.3331\n"
     ]
    }
   ],
   "source": [
    "# train the model\n",
    "history_part_2 = model.fit(X_train_stateful, y_train_stateful, batch_size=batch_size, epochs=40, verbose = 1, \n",
    "                    validation_data = (X_validation_stateful, y_validation_stateful),\n",
    "                    callbacks=[checkpointer])"
   ]
  },
  {
   "cell_type": "code",
   "execution_count": 53,
   "metadata": {},
   "outputs": [
    {
     "name": "stdout",
     "output_type": "stream",
     "text": [
      "_________________________________________________________________\n",
      "Layer (type)                 Output Shape              Param #   \n",
      "=================================================================\n",
      "lstm_15 (LSTM)               (250, 100, 200)           231200    \n",
      "_________________________________________________________________\n",
      "lstm_16 (LSTM)               (250, 200)                320800    \n",
      "_________________________________________________________________\n",
      "dense_4 (Dense)              (250, 88)                 17688     \n",
      "=================================================================\n",
      "Total params: 569,688\n",
      "Trainable params: 569,688\n",
      "Non-trainable params: 0\n",
      "_________________________________________________________________\n"
     ]
    },
    {
     "ename": "ValueError",
     "evalue": "In a stateful network, you should only pass inputs with a number of samples that can be divided by the batch size. Found: 382953 samples",
     "output_type": "error",
     "traceback": [
      "\u001b[0;31m---------------------------------------------------------------------------\u001b[0m",
      "\u001b[0;31mValueError\u001b[0m                                Traceback (most recent call last)",
      "\u001b[0;32m<ipython-input-53-ed50e21793c5>\u001b[0m in \u001b[0;36m<module>\u001b[0;34m()\u001b[0m\n\u001b[1;32m      6\u001b[0m history = model.fit(X_train, y_train, batch_size=batch_size, epochs=40, verbose = 1, \n\u001b[1;32m      7\u001b[0m                     \u001b[0mvalidation_data\u001b[0m \u001b[0;34m=\u001b[0m \u001b[0;34m(\u001b[0m\u001b[0mX_validation\u001b[0m\u001b[0;34m,\u001b[0m \u001b[0my_validation\u001b[0m\u001b[0;34m)\u001b[0m\u001b[0;34m,\u001b[0m\u001b[0;34m\u001b[0m\u001b[0m\n\u001b[0;32m----> 8\u001b[0;31m                     callbacks=[checkpointer])\n\u001b[0m",
      "\u001b[0;32m~/anaconda3/envs/egpu/lib/python3.6/site-packages/keras/models.py\u001b[0m in \u001b[0;36mfit\u001b[0;34m(self, x, y, batch_size, epochs, verbose, callbacks, validation_split, validation_data, shuffle, class_weight, sample_weight, initial_epoch, **kwargs)\u001b[0m\n\u001b[1;32m    865\u001b[0m                               \u001b[0mclass_weight\u001b[0m\u001b[0;34m=\u001b[0m\u001b[0mclass_weight\u001b[0m\u001b[0;34m,\u001b[0m\u001b[0;34m\u001b[0m\u001b[0m\n\u001b[1;32m    866\u001b[0m                               \u001b[0msample_weight\u001b[0m\u001b[0;34m=\u001b[0m\u001b[0msample_weight\u001b[0m\u001b[0;34m,\u001b[0m\u001b[0;34m\u001b[0m\u001b[0m\n\u001b[0;32m--> 867\u001b[0;31m                               initial_epoch=initial_epoch)\n\u001b[0m\u001b[1;32m    868\u001b[0m \u001b[0;34m\u001b[0m\u001b[0m\n\u001b[1;32m    869\u001b[0m     def evaluate(self, x, y, batch_size=32, verbose=1,\n",
      "\u001b[0;32m~/anaconda3/envs/egpu/lib/python3.6/site-packages/keras/engine/training.py\u001b[0m in \u001b[0;36mfit\u001b[0;34m(self, x, y, batch_size, epochs, verbose, callbacks, validation_split, validation_data, shuffle, class_weight, sample_weight, initial_epoch, steps_per_epoch, validation_steps, **kwargs)\u001b[0m\n\u001b[1;32m   1520\u001b[0m             \u001b[0mclass_weight\u001b[0m\u001b[0;34m=\u001b[0m\u001b[0mclass_weight\u001b[0m\u001b[0;34m,\u001b[0m\u001b[0;34m\u001b[0m\u001b[0m\n\u001b[1;32m   1521\u001b[0m             \u001b[0mcheck_batch_axis\u001b[0m\u001b[0;34m=\u001b[0m\u001b[0;32mFalse\u001b[0m\u001b[0;34m,\u001b[0m\u001b[0;34m\u001b[0m\u001b[0m\n\u001b[0;32m-> 1522\u001b[0;31m             batch_size=batch_size)\n\u001b[0m\u001b[1;32m   1523\u001b[0m         \u001b[0;31m# Prepare validation data.\u001b[0m\u001b[0;34m\u001b[0m\u001b[0;34m\u001b[0m\u001b[0m\n\u001b[1;32m   1524\u001b[0m         \u001b[0mdo_validation\u001b[0m \u001b[0;34m=\u001b[0m \u001b[0;32mFalse\u001b[0m\u001b[0;34m\u001b[0m\u001b[0m\n",
      "\u001b[0;32m~/anaconda3/envs/egpu/lib/python3.6/site-packages/keras/engine/training.py\u001b[0m in \u001b[0;36m_standardize_user_data\u001b[0;34m(self, x, y, sample_weight, class_weight, check_batch_axis, batch_size)\u001b[0m\n\u001b[1;32m   1398\u001b[0m                                  \u001b[0;34m'a number of samples that can be '\u001b[0m\u001b[0;34m\u001b[0m\u001b[0m\n\u001b[1;32m   1399\u001b[0m                                  \u001b[0;34m'divided by the batch size. Found: '\u001b[0m \u001b[0;34m+\u001b[0m\u001b[0;34m\u001b[0m\u001b[0m\n\u001b[0;32m-> 1400\u001b[0;31m                                  str(x[0].shape[0]) + ' samples')\n\u001b[0m\u001b[1;32m   1401\u001b[0m         \u001b[0;32mreturn\u001b[0m \u001b[0mx\u001b[0m\u001b[0;34m,\u001b[0m \u001b[0my\u001b[0m\u001b[0;34m,\u001b[0m \u001b[0msample_weights\u001b[0m\u001b[0;34m\u001b[0m\u001b[0m\n\u001b[1;32m   1402\u001b[0m \u001b[0;34m\u001b[0m\u001b[0m\n",
      "\u001b[0;31mValueError\u001b[0m: In a stateful network, you should only pass inputs with a number of samples that can be divided by the batch size. Found: 382953 samples"
     ]
    }
   ],
   "source": [
    "batch_size = 250\n",
    "model = get_deeper_rnn()\n",
    "checkpointer = ModelCheckpoint(filepath='best_RNN_dropout_from_stateful.hdf5', verbose=1, save_best_only=True)\n",
    "\n",
    "# train the model\n",
    "history = model.fit(X_train, y_train, batch_size=batch_size, epochs=40, verbose = 1, \n",
    "                    validation_data = (X_validation, y_validation),\n",
    "                    callbacks=[checkpointer])"
   ]
  },
  {
   "cell_type": "code",
   "execution_count": 61,
   "metadata": {
    "collapsed": true
   },
   "outputs": [],
   "source": [
    "loss = history.history['loss'] \n",
    "val_loss = history.history['val_loss'] "
   ]
  },
  {
   "cell_type": "code",
   "execution_count": 62,
   "metadata": {
    "collapsed": true
   },
   "outputs": [],
   "source": [
    "np.save('history_deep_dropout_statefull', (loss, val_loss))"
   ]
  },
  {
   "cell_type": "markdown",
   "metadata": {},
   "source": [
    "### Deep with dropout"
   ]
  },
  {
   "cell_type": "code",
   "execution_count": 63,
   "metadata": {},
   "outputs": [
    {
     "data": {
      "image/png": "[encoded data removed]",
      "text/plain": [
       "<matplotlib.figure.Figure at 0x2e7676d30>"
      ]
     },
     "metadata": {},
     "output_type": "display_data"
    }
   ],
   "source": [
    "from matplotlib import pyplot as plt\n",
    "plt.plot(loss)\n",
    "plt.plot(val_loss)\n",
    "plt.show()"
   ]
  },
  {
   "cell_type": "markdown",
   "metadata": {},
   "source": [
    "## 20 Epochs Simple no dropout"
   ]
  },
  {
   "attachments": {
    "history_graph_20_epochs.png": {
     "image/png": "[encoded data removed]"
    }
   },
   "cell_type": "markdown",
   "metadata": {},
   "source": [
    "![history_graph_20_epochs.png](attachment:history_graph_20_epochs.png)"
   ]
  },
  {
   "cell_type": "code",
   "execution_count": 24,
   "metadata": {
    "collapsed": true
   },
   "outputs": [],
   "source": [
    "test_size = 101\n",
    "X_test, _ = encode_io_pairs(text_validation[:test_size],chars, window_size,step_size)"
   ]
  },
  {
   "cell_type": "code",
   "execution_count": 25,
   "metadata": {},
   "outputs": [
    {
     "name": "stdout",
     "output_type": "stream",
     "text": [
      "AXOLOTL\n",
      "HUBO un tiempo en que yo pensaba mucho en los axolotl.\n",
      "Iba a verlos al acuario del Jardín des\n"
     ]
    },
    {
     "data": {
      "text/plain": [
       "(1, 100, 88)"
      ]
     },
     "execution_count": 25,
     "metadata": {},
     "output_type": "execute_result"
    }
   ],
   "source": [
    "print(text_validation[:test_size])\n",
    "X_test.shape"
   ]
  },
  {
   "cell_type": "markdown",
   "metadata": {},
   "source": [
    "## Generar texto"
   ]
  },
  {
   "cell_type": "code",
   "execution_count": 160,
   "metadata": {
    "collapsed": true
   },
   "outputs": [],
   "source": [
    "ALPHASIZE = len(chars)\n",
    "def sample_from_probabilities(probabilities, topn=ALPHASIZE):\n",
    "    \"\"\"Roll the dice to produce a random integer in the [0..ALPHASIZE] range,\n",
    "    according to the provided probabilities. If topn is specified, only the\n",
    "    topn highest probabilities are taken into account.\n",
    "    :param probabilities: a list of size ALPHASIZE with individual probabilities\n",
    "    :param topn: the number of highest probabilities to consider. Defaults to all of them.\n",
    "    :return: a random integer\n",
    "    \"\"\"\n",
    "    p = np.squeeze(probabilities)\n",
    "    p[np.argsort(p)[:-topn]] = 0\n",
    "    p = p / np.sum(p)\n",
    "    return np.random.choice(ALPHASIZE, 1, p=p)[0]\n",
    "\n",
    "def sample(a, temperature=1.0):\n",
    "    # helper function to sample an index from a probability array\n",
    "    a = np.log(a) / temperature\n",
    "    a = np.exp(a) / np.sum(np.exp(a))\n",
    "    return np.argmax(np.random.multinomial(1, a, 1))\n",
    "\n",
    "def chars_to_one_hot(sentence, chars):\n",
    "    num_chars = len(chars)\n",
    "    size = max(len(sentence),window_size)\n",
    "    X = np.zeros((1, size, num_chars), dtype=np.bool)\n",
    "    for t, char in enumerate(sentence):\n",
    "        if char not in chars_to_indices:\n",
    "            char = ' '\n",
    "        X[0, t + size - len(sentence), chars_to_indices[char]] = 1\n",
    "    return X"
   ]
  },
  {
   "cell_type": "markdown",
   "metadata": {},
   "source": [
    "### Padding tests"
   ]
  },
  {
   "cell_type": "code",
   "execution_count": 27,
   "metadata": {},
   "outputs": [
    {
     "data": {
      "text/plain": [
       "array([[0, 0, 0, 0, 0, 0, 0, 0, 0, 0, 0, 0, 0, 0, 0, 0, 0, 0, 0, 0, 0, 0,\n",
       "        0, 0, 0, 0, 0, 0, 0, 0, 0, 0, 0, 0, 0, 0, 0, 0, 0, 0, 0, 0, 0, 0,\n",
       "        0, 0, 0, 0, 0, 0, 1, 1, 1, 1, 1, 1, 1, 1, 1, 1, 1, 1, 1, 1, 1, 1,\n",
       "        1, 1, 1, 1, 1, 1, 1, 1, 1, 1, 1, 1, 1, 1, 1, 1, 1, 1, 1, 1, 1, 1,\n",
       "        1, 1, 1, 1, 1, 1, 1, 1, 1, 1, 1, 1]])"
      ]
     },
     "execution_count": 27,
     "metadata": {},
     "output_type": "execute_result"
    }
   ],
   "source": [
    "test_size = 50\n",
    "X_text_str = text_validation[:test_size]\n",
    "chars_to_one_hot(X_text_str[0:], chars).astype(int).sum(axis=2)"
   ]
  },
  {
   "cell_type": "code",
   "execution_count": 28,
   "metadata": {},
   "outputs": [
    {
     "name": "stdout",
     "output_type": "stream",
     "text": [
      "escribir sobre nosotros, creyendo imaginar un\n",
      "cuento va a escribir todo esto sobre los axolotl.\n",
      "LA NOC\n"
     ]
    }
   ],
   "source": [
    "## Cuento nuevo\n",
    "print(text_validation[11350:11452])"
   ]
  },
  {
   "cell_type": "markdown",
   "metadata": {},
   "source": [
    "## Resumen resultados distintos entrenamientos"
   ]
  },
  {
   "cell_type": "markdown",
   "metadata": {},
   "source": [
    "### Una sola epoch, modelo simple"
   ]
  },
  {
   "cell_type": "code",
   "execution_count": 219,
   "metadata": {},
   "outputs": [
    {
     "name": "stdout",
     "output_type": "stream",
     "text": [
      "350912/350934 [============================>.] - ETA: 0s"
     ]
    },
    {
     "data": {
      "text/plain": [
       "2.2390101701531582"
      ]
     },
     "execution_count": 219,
     "metadata": {},
     "output_type": "execute_result"
    }
   ],
   "source": [
    "model_simple = get_simple_rnn()\n",
    "model_simple.load_weights('best_RNN_textdata_weights_01_epochs_step_1_epochs_valid.hdf5')\n",
    "model_simple.evaluate(X_validation, y_validation)"
   ]
  },
  {
   "cell_type": "markdown",
   "metadata": {},
   "source": [
    "## 20 Epochs, modelo simple\n",
    "**Overfitting a partir de aca**"
   ]
  },
  {
   "cell_type": "code",
   "execution_count": 46,
   "metadata": {},
   "outputs": [
    {
     "name": "stdout",
     "output_type": "stream",
     "text": [
      "350934/350934 [==============================] - 317s   \n"
     ]
    },
    {
     "data": {
      "text/plain": [
       "1.6993086159786712"
      ]
     },
     "execution_count": 46,
     "metadata": {},
     "output_type": "execute_result"
    }
   ],
   "source": [
    "model_simple.load_weights('best_RNN_textdata_weights_20_epochs_step_1_epochs_valid.hdf5')\n",
    "model_simple.evaluate(X_validation, y_validation)"
   ]
  },
  {
   "cell_type": "markdown",
   "metadata": {},
   "source": [
    "## 28 epochs, modelos deep sin dropout en LSTM pero si entre LSTMs\n",
    "**Overfitting a partir de aca**"
   ]
  },
  {
   "cell_type": "code",
   "execution_count": 55,
   "metadata": {},
   "outputs": [
    {
     "name": "stdout",
     "output_type": "stream",
     "text": [
      "350934/350934 [==============================] - 673s   \n"
     ]
    },
    {
     "data": {
      "text/plain": [
       "1.6121161029150335"
      ]
     },
     "execution_count": 55,
     "metadata": {},
     "output_type": "execute_result"
    }
   ],
   "source": [
    "model_deep_ndo = get_deeper_no_rnn_dropout()\n",
    "model_deep_ndo.load_weights('best_RNN_textdata_weights_28_epochs_step_1_epochs_valid_2layers.hdf5')\n",
    "model_deep_ndo.evaluate(X_validation, y_validation)"
   ]
  },
  {
   "cell_type": "markdown",
   "metadata": {},
   "source": [
    "## 50 epochs, modelo deep con dropout en LSTM\n",
    "**Podría seguirla entrenando** Ultima posicion que disminuye: 48"
   ]
  },
  {
   "cell_type": "code",
   "execution_count": 220,
   "metadata": {},
   "outputs": [
    {
     "name": "stdout",
     "output_type": "stream",
     "text": [
      "350934/350934 [==============================] - 681s   \n"
     ]
    },
    {
     "data": {
      "text/plain": [
       "1.5581404215710672"
      ]
     },
     "execution_count": 220,
     "metadata": {},
     "output_type": "execute_result"
    }
   ],
   "source": [
    "model_deep_rnn = get_deeper_rnn()\n",
    "model_deep_rnn.load_weights('best_RNN_dropout_50_epochs.hdf5')\n",
    "model_deep_rnn.evaluate(X_validation, y_validation)"
   ]
  },
  {
   "cell_type": "markdown",
   "metadata": {},
   "source": [
    "## 50 epochs desde el epoch 48 del anterior, modelo deep con dropout en LSTM\n",
    "**Podría seguirla entrenando** Ultima posicion que disminuye: 49"
   ]
  },
  {
   "cell_type": "code",
   "execution_count": 221,
   "metadata": {},
   "outputs": [
    {
     "name": "stdout",
     "output_type": "stream",
     "text": [
      "350934/350934 [==============================] - 689s   \n"
     ]
    },
    {
     "data": {
      "text/plain": [
       "1.5403717923841169"
      ]
     },
     "execution_count": 221,
     "metadata": {},
     "output_type": "execute_result"
    }
   ],
   "source": [
    "model_deep_rnn = get_deeper_rnn()\n",
    "model_deep_rnn.load_weights('best_RNN_dropout_from_48.hdf5')\n",
    "model_deep_rnn.evaluate(X_validation, y_validation)"
   ]
  },
  {
   "cell_type": "code",
   "execution_count": 209,
   "metadata": {
    "collapsed": true
   },
   "outputs": [],
   "source": [
    "def sample(a, temperature=1.0):\n",
    "    # helper function to sample an index from a probability array\n",
    "    a = np.log(a) / temperature\n",
    "    a = np.exp(a) / np.sum(np.exp(a))\n",
    "    print(a)\n",
    "    return np.argmax(np.random.multinomial(1, a, 1))"
   ]
  },
  {
   "cell_type": "code",
   "execution_count": 210,
   "metadata": {},
   "outputs": [
    {
     "name": "stdout",
     "output_type": "stream",
     "text": [
      "(1, 88)\n",
      "1.0\n",
      "[  1.09773895e-16   9.99987841e-01   0.00000000e+00   0.00000000e+00\n",
      "   0.00000000e+00   0.00000000e+00   0.00000000e+00   0.00000000e+00\n",
      "   0.00000000e+00   0.00000000e+00   0.00000000e+00   0.00000000e+00\n",
      "   0.00000000e+00   0.00000000e+00   0.00000000e+00   0.00000000e+00\n",
      "   0.00000000e+00   0.00000000e+00   0.00000000e+00   0.00000000e+00\n",
      "   0.00000000e+00   0.00000000e+00   0.00000000e+00   0.00000000e+00\n",
      "   0.00000000e+00   0.00000000e+00   0.00000000e+00   0.00000000e+00\n",
      "   0.00000000e+00   0.00000000e+00   0.00000000e+00   0.00000000e+00\n",
      "   0.00000000e+00   0.00000000e+00   0.00000000e+00   0.00000000e+00\n",
      "   0.00000000e+00   0.00000000e+00   0.00000000e+00   0.00000000e+00\n",
      "   0.00000000e+00   0.00000000e+00   0.00000000e+00   0.00000000e+00\n",
      "   0.00000000e+00   0.00000000e+00   1.61068178e-36   1.58657088e-27\n",
      "   4.36446444e-28   1.89791612e-38   0.00000000e+00   5.03110990e-40\n",
      "   0.00000000e+00   0.00000000e+00   0.00000000e+00   5.25753109e-33\n",
      "   0.00000000e+00   1.21833045e-05   4.51834104e-27   9.19604354e-27\n",
      "   0.00000000e+00   2.07892436e-40   0.00000000e+00   1.15623589e-25\n",
      "   1.73158184e-18   5.81557357e-29   1.54002701e-42   3.50324616e-44\n",
      "   0.00000000e+00   0.00000000e+00   0.00000000e+00   0.00000000e+00\n",
      "   0.00000000e+00   0.00000000e+00   0.00000000e+00   0.00000000e+00\n",
      "   0.00000000e+00   0.00000000e+00   0.00000000e+00   0.00000000e+00\n",
      "   0.00000000e+00   0.00000000e+00   7.00649232e-44   0.00000000e+00\n",
      "   0.00000000e+00   0.00000000e+00   0.00000000e+00   0.00000000e+00]\n"
     ]
    },
    {
     "ename": "ValueError",
     "evalue": "sum(pvals[:-1]) > 1.0",
     "output_type": "error",
     "traceback": [
      "\u001b[0;31m---------------------------------------------------------------------------\u001b[0m",
      "\u001b[0;31mValueError\u001b[0m                                Traceback (most recent call last)",
      "\u001b[0;32m<ipython-input-210-f93bb1863ca1>\u001b[0m in \u001b[0;36m<module>\u001b[0;34m()\u001b[0m\n\u001b[1;32m     23\u001b[0m     \u001b[0mprint\u001b[0m\u001b[0;34m(\u001b[0m\u001b[0mprobs_norm\u001b[0m\u001b[0;34m.\u001b[0m\u001b[0mshape\u001b[0m\u001b[0;34m)\u001b[0m\u001b[0;34m\u001b[0m\u001b[0m\n\u001b[1;32m     24\u001b[0m     \u001b[0mprint\u001b[0m\u001b[0;34m(\u001b[0m\u001b[0mprobs_norm\u001b[0m\u001b[0;34m[\u001b[0m\u001b[0;36m0\u001b[0m\u001b[0;34m]\u001b[0m\u001b[0;34m.\u001b[0m\u001b[0msum\u001b[0m\u001b[0;34m(\u001b[0m\u001b[0;34m)\u001b[0m\u001b[0;34m)\u001b[0m\u001b[0;34m\u001b[0m\u001b[0m\n\u001b[0;32m---> 25\u001b[0;31m     \u001b[0mprint\u001b[0m\u001b[0;34m(\u001b[0m\u001b[0mnp\u001b[0m\u001b[0;34m.\u001b[0m\u001b[0margmax\u001b[0m\u001b[0;34m(\u001b[0m\u001b[0mprobs\u001b[0m\u001b[0;34m[\u001b[0m\u001b[0;36m0\u001b[0m\u001b[0;34m]\u001b[0m\u001b[0;34m)\u001b[0m\u001b[0;34m,\u001b[0m \u001b[0msample_from_probabilities\u001b[0m\u001b[0;34m(\u001b[0m\u001b[0mprobs\u001b[0m\u001b[0;34m,\u001b[0m\u001b[0;36m1\u001b[0m\u001b[0;34m)\u001b[0m\u001b[0;34m,\u001b[0m \u001b[0msample\u001b[0m\u001b[0;34m(\u001b[0m\u001b[0mprobs_norm\u001b[0m\u001b[0;34m[\u001b[0m\u001b[0;36m0\u001b[0m\u001b[0;34m]\u001b[0m\u001b[0;34m,\u001b[0m\u001b[0;36m0.1\u001b[0m\u001b[0;34m)\u001b[0m\u001b[0;34m)\u001b[0m\u001b[0;34m\u001b[0m\u001b[0m\n\u001b[0m\u001b[1;32m     26\u001b[0m     \u001b[0mnew_char\u001b[0m \u001b[0;34m=\u001b[0m \u001b[0mindices_to_chars\u001b[0m\u001b[0;34m[\u001b[0m\u001b[0msample\u001b[0m\u001b[0;34m(\u001b[0m\u001b[0mprobs_norm\u001b[0m\u001b[0;34m[\u001b[0m\u001b[0;36m0\u001b[0m\u001b[0;34m]\u001b[0m\u001b[0;34m,\u001b[0m\u001b[0;36m0.01\u001b[0m\u001b[0;34m)\u001b[0m\u001b[0;34m]\u001b[0m\u001b[0;34m\u001b[0m\u001b[0m\n\u001b[1;32m     27\u001b[0m     \u001b[0mX_text_str\u001b[0m \u001b[0;34m=\u001b[0m \u001b[0mX_text_str\u001b[0m \u001b[0;34m+\u001b[0m \u001b[0mnew_char\u001b[0m\u001b[0;34m\u001b[0m\u001b[0m\n",
      "\u001b[0;32m<ipython-input-209-ce0da1d84d9c>\u001b[0m in \u001b[0;36msample\u001b[0;34m(a, temperature)\u001b[0m\n\u001b[1;32m      4\u001b[0m     \u001b[0ma\u001b[0m \u001b[0;34m=\u001b[0m \u001b[0mnp\u001b[0m\u001b[0;34m.\u001b[0m\u001b[0mexp\u001b[0m\u001b[0;34m(\u001b[0m\u001b[0ma\u001b[0m\u001b[0;34m)\u001b[0m \u001b[0;34m/\u001b[0m \u001b[0mnp\u001b[0m\u001b[0;34m.\u001b[0m\u001b[0msum\u001b[0m\u001b[0;34m(\u001b[0m\u001b[0mnp\u001b[0m\u001b[0;34m.\u001b[0m\u001b[0mexp\u001b[0m\u001b[0;34m(\u001b[0m\u001b[0ma\u001b[0m\u001b[0;34m)\u001b[0m\u001b[0;34m)\u001b[0m\u001b[0;34m\u001b[0m\u001b[0m\n\u001b[1;32m      5\u001b[0m     \u001b[0mprint\u001b[0m\u001b[0;34m(\u001b[0m\u001b[0ma\u001b[0m\u001b[0;34m)\u001b[0m\u001b[0;34m\u001b[0m\u001b[0m\n\u001b[0;32m----> 6\u001b[0;31m     \u001b[0;32mreturn\u001b[0m \u001b[0mnp\u001b[0m\u001b[0;34m.\u001b[0m\u001b[0margmax\u001b[0m\u001b[0;34m(\u001b[0m\u001b[0mnp\u001b[0m\u001b[0;34m.\u001b[0m\u001b[0mrandom\u001b[0m\u001b[0;34m.\u001b[0m\u001b[0mmultinomial\u001b[0m\u001b[0;34m(\u001b[0m\u001b[0;36m1\u001b[0m\u001b[0;34m,\u001b[0m \u001b[0ma\u001b[0m\u001b[0;34m,\u001b[0m \u001b[0;36m1\u001b[0m\u001b[0;34m)\u001b[0m\u001b[0;34m)\u001b[0m\u001b[0;34m\u001b[0m\u001b[0m\n\u001b[0m",
      "\u001b[0;32mmtrand.pyx\u001b[0m in \u001b[0;36mmtrand.RandomState.multinomial\u001b[0;34m()\u001b[0m\n",
      "\u001b[0;31mValueError\u001b[0m: sum(pvals[:-1]) > 1.0"
     ]
    }
   ],
   "source": [
    "#model = get_simple_rnn()\n",
    "#model.load_weights('best_RNN_textdata_weights_01_epochs_step_1_epochs_valid.hdf5')\n",
    "#model.load_weights('best_RNN_textdata_weights_20_epochs_step_1_epochs_valid.hdf5')\n",
    "# best_RNN_textdata_weights_10_epochs_step_1_epochs_valid\n",
    "# best_RNN_textdata_weights_20_epochs_step_1_epochs_valid\n",
    "# best_RNN_textdata_weights_28_epochs_step_1_epochs_valid_2layers\n",
    "\n",
    "model_deep_rnn = get_deeper_rnn()\n",
    "model_deep_rnn.load_weights('best_RNN_dropout_50_epochs.hdf5')\n",
    "\n",
    "model = model_deep_rnn\n",
    "N = 2\n",
    "initial_place = 0\n",
    "test_size = 100\n",
    "X_text_str = text_validation[initial_place:initial_place+test_size] #Arranco del principio\n",
    "#X_text_str = text_validation[11352:11452] #Arrancho de un lugar que tenga mayusculas\n",
    "\n",
    "for i in range(N):\n",
    "    X_test = chars_to_one_hot(X_text_str[i:], chars)\n",
    "    probs = model.predict(X_test)\n",
    "    #new_char = indices_to_chars[sample_from_probabilities(probs)]\n",
    "    probs_norm = probs/probs.sum()\n",
    "    print(probs_norm.shape)\n",
    "    print(probs_norm[0].sum())\n",
    "    print(np.argmax(probs[0]), sample_from_probabilities(probs,1), sample(probs_norm[0],0.1))\n",
    "    new_char = indices_to_chars[sample(probs_norm[0],0.01)]\n",
    "    X_text_str = X_text_str + new_char\n",
    "print(X_text_str)"
   ]
  },
  {
   "cell_type": "code",
   "execution_count": 152,
   "metadata": {},
   "outputs": [
    {
     "data": {
      "text/plain": [
       "array([ 0.        ,  0.        ,  0.        ,  0.        ,  0.        ,\n",
       "        0.        ,  0.        ,  0.        ,  0.        ,  0.        ,\n",
       "        0.        ,  0.        ,  0.        ,  0.        ,  0.        ,\n",
       "        0.        ,  0.        ,  0.        ,  0.        ,  0.        ,\n",
       "        0.        ,  0.        ,  0.        ,  0.        ,  0.        ,\n",
       "        0.        ,  0.        ,  0.        ,  0.        ,  0.        ,\n",
       "        0.        ,  0.        ,  0.        ,  0.        ,  0.        ,\n",
       "        0.        ,  0.        ,  0.        ,  0.        ,  0.        ,\n",
       "        0.        ,  0.        ,  0.        ,  0.        ,  0.        ,\n",
       "        0.        ,  0.        ,  0.        ,  0.42021868,  0.        ,\n",
       "        0.        ,  0.        ,  0.        ,  0.        ,  0.        ,\n",
       "        0.        ,  0.        ,  0.        ,  0.28162739,  0.        ,\n",
       "        0.        ,  0.29815391,  0.        ,  0.        ,  0.        ,\n",
       "        0.        ,  0.        ,  0.        ,  0.        ,  0.        ,\n",
       "        0.        ,  0.        ,  0.        ,  0.        ,  0.        ,\n",
       "        0.        ,  0.        ,  0.        ,  0.        ,  0.        ,\n",
       "        0.        ,  0.        ,  0.        ,  0.        ,  0.        ,\n",
       "        0.        ,  0.        ,  0.        ], dtype=float32)"
      ]
     },
     "execution_count": 152,
     "metadata": {},
     "output_type": "execute_result"
    }
   ],
   "source": [
    "what/sum(what)"
   ]
  },
  {
   "cell_type": "code",
   "execution_count": 149,
   "metadata": {},
   "outputs": [
    {
     "name": "stderr",
     "output_type": "stream",
     "text": [
      "/Users/julianganzabal/anaconda3/envs/egpu/lib/python3.6/site-packages/ipykernel_launcher.py:17: RuntimeWarning: divide by zero encountered in log\n"
     ]
    },
    {
     "data": {
      "text/plain": [
       "61"
      ]
     },
     "execution_count": 149,
     "metadata": {},
     "output_type": "execute_result"
    }
   ],
   "source": [
    "sample(what/sum(what),1)"
   ]
  },
  {
   "cell_type": "markdown",
   "metadata": {},
   "source": [
    "AXOLOTL\n",
    "HUBO un tiempo en que yo pensaba mucho en los axolotl.\n",
    "Iba a verlos al acuario del Jardín de alto de los pasajeros. Es esa menos se acosta\n",
    "de su mujer. El conejo entraron a los caracoles, y la mujer\n",
    "desde los comentamientos de su carrera de los deseos\n",
    "de la mano y encontró con el concierto.\n",
    "\n",
    "**Resultados**:\n",
    "- Aprendio enters\n",
    "- Despues de un punto viene una mayuscula\n",
    "- Plural: los caracoles, los deseos, los comentarmientos"
   ]
  },
  {
   "cell_type": "code",
   "execution_count": 9,
   "metadata": {
    "collapsed": true
   },
   "outputs": [],
   "source": [
    "import numpy as np\n",
    "def sample_from_probabilities(probabilities, topn=None):\n",
    "    print(len(probabilities))\n",
    "    topn = len(probabilities)\n",
    "    \"\"\"Roll the dice to produce a random integer in the [0..ALPHASIZE] range,\n",
    "    according to the provided probabilities. If topn is specified, only the\n",
    "    topn highest probabilities are taken into account.\n",
    "    :param probabilities: a list of size ALPHASIZE with individual probabilities\n",
    "    :param topn: the number of highest probabilities to consider. Defaults to all of them.\n",
    "    :return: a random integer\n",
    "    \"\"\"\n",
    "    p = np.squeeze(probabilities)\n",
    "    p[np.argsort(p)[:-topn]] = 0\n",
    "    p = p / np.sum(p)\n",
    "    return np.random.choice(topn, 1, p=p)[0]\n",
    "\n",
    "def sample(a, temperature=1.0):\n",
    "    # helper function to sample an index from a probability array\n",
    "    a = np.log(a) / temperature\n",
    "    a = np.exp(a) / np.sum(np.exp(a))\n",
    "    return np.argmax(np.random.multinomial(1, a, 1))"
   ]
  },
  {
   "cell_type": "code",
   "execution_count": 153,
   "metadata": {
    "collapsed": true
   },
   "outputs": [],
   "source": [
    "a = [0.15, 0.34, 0.36, 0.15, 0]"
   ]
  },
  {
   "cell_type": "code",
   "execution_count": 154,
   "metadata": {},
   "outputs": [
    {
     "name": "stdout",
     "output_type": "stream",
     "text": [
      "CPU times: user 327 µs, sys: 122 µs, total: 449 µs\n",
      "Wall time: 347 µs\n"
     ]
    },
    {
     "name": "stderr",
     "output_type": "stream",
     "text": [
      "/Users/julianganzabal/anaconda3/envs/egpu/lib/python3.6/site-packages/ipykernel_launcher.py:17: RuntimeWarning: divide by zero encountered in log\n"
     ]
    },
    {
     "data": {
      "text/plain": [
       "2"
      ]
     },
     "execution_count": 154,
     "metadata": {},
     "output_type": "execute_result"
    }
   ],
   "source": [
    "%time sample(a, temperature=0.5)"
   ]
  },
  {
   "cell_type": "code",
   "execution_count": 36,
   "metadata": {},
   "outputs": [
    {
     "name": "stdout",
     "output_type": "stream",
     "text": [
      "2\n",
      "CPU times: user 510 µs, sys: 353 µs, total: 863 µs\n",
      "Wall time: 720 µs\n"
     ]
    },
    {
     "data": {
      "text/plain": [
       "1"
      ]
     },
     "execution_count": 36,
     "metadata": {},
     "output_type": "execute_result"
    }
   ],
   "source": [
    "%time sample_from_probabilities(a, len(a))"
   ]
  },
  {
   "cell_type": "code",
   "execution_count": 31,
   "metadata": {},
   "outputs": [],
   "source": [
    "X_train, y_train = encode_io_pairs(text_train, chars, 1,1)\n",
    "X_validation, y_validation = encode_io_pairs(text_validation, chars, 1,1)"
   ]
  },
  {
   "cell_type": "code",
   "execution_count": 33,
   "metadata": {},
   "outputs": [
    {
     "data": {
      "text/plain": [
       "(383052, 1, 88)"
      ]
     },
     "execution_count": 33,
     "metadata": {},
     "output_type": "execute_result"
    }
   ],
   "source": [
    "X_train.shape"
   ]
  },
  {
   "cell_type": "code",
   "execution_count": 38,
   "metadata": {},
   "outputs": [
    {
     "data": {
      "text/plain": [
       "1"
      ]
     },
     "execution_count": 38,
     "metadata": {},
     "output_type": "execute_result"
    }
   ],
   "source": [
    "window_size"
   ]
  },
  {
   "cell_type": "code",
   "execution_count": 44,
   "metadata": {},
   "outputs": [
    {
     "name": "stdout",
     "output_type": "stream",
     "text": [
      "input shape =  (1, 88)\n",
      "_________________________________________________________________\n",
      "Layer (type)                 Output Shape              Param #   \n",
      "=================================================================\n",
      "lstm_10 (LSTM)               (None, 1, 200)            231200    \n",
      "_________________________________________________________________\n",
      "lstm_11 (LSTM)               (None, 200)               320800    \n",
      "_________________________________________________________________\n",
      "dense_6 (Dense)              (None, 88)                17688     \n",
      "=================================================================\n",
      "Total params: 569,688\n",
      "Trainable params: 569,688\n",
      "Non-trainable params: 0\n",
      "_________________________________________________________________\n"
     ]
    }
   ],
   "source": [
    "input_shape=(1, 1)\n",
    "model_full_batch = get_deeper_rnn()\n",
    "model_full_batch.summary()"
   ]
  },
  {
   "cell_type": "code",
   "execution_count": 50,
   "metadata": {},
   "outputs": [
    {
     "name": "stdout",
     "output_type": "stream",
     "text": [
      "input shape =  (1, 88)\n",
      "Train on 383052 samples, validate on 351033 samples\n",
      "Epoch 1/40\n",
      "383000/383052 [============================>.] - ETA: 0s - loss: 2.5878Epoch 00000: val_loss improved from inf to 2.46046, saving model to one_char.hdf5\n",
      "383052/383052 [==============================] - 171s - loss: 2.5878 - val_loss: 2.4605\n",
      "Epoch 2/40\n",
      "383000/383052 [============================>.] - ETA: 0s - loss: 2.4466Epoch 00001: val_loss improved from 2.46046 to 2.44593, saving model to one_char.hdf5\n",
      "383052/383052 [==============================] - 172s - loss: 2.4466 - val_loss: 2.4459\n",
      "Epoch 3/40\n",
      "383000/383052 [============================>.] - ETA: 0s - loss: 2.4258Epoch 00002: val_loss improved from 2.44593 to 2.43870, saving model to one_char.hdf5\n",
      "383052/383052 [==============================] - 186s - loss: 2.4259 - val_loss: 2.4387\n",
      "Epoch 4/40\n",
      "156600/383052 [===========>..................] - ETA: 95s - loss: 2.4181"
     ]
    },
    {
     "ename": "KeyboardInterrupt",
     "evalue": "",
     "output_type": "error",
     "traceback": [
      "\u001b[0;31m---------------------------------------------------------------------------\u001b[0m",
      "\u001b[0;31mKeyboardInterrupt\u001b[0m                         Traceback (most recent call last)",
      "\u001b[0;32m<ipython-input-50-acff44b14af2>\u001b[0m in \u001b[0;36m<module>\u001b[0;34m()\u001b[0m\n\u001b[1;32m      6\u001b[0m history = model.fit(X_train, y_train, batch_size=batch_size, epochs=40, verbose = 1, \n\u001b[1;32m      7\u001b[0m                     \u001b[0mvalidation_data\u001b[0m \u001b[0;34m=\u001b[0m \u001b[0;34m(\u001b[0m\u001b[0mX_validation\u001b[0m\u001b[0;34m,\u001b[0m \u001b[0my_validation\u001b[0m\u001b[0;34m)\u001b[0m\u001b[0;34m,\u001b[0m\u001b[0;34m\u001b[0m\u001b[0m\n\u001b[0;32m----> 8\u001b[0;31m                     callbacks=[checkpointer])\n\u001b[0m",
      "\u001b[0;32m~/anaconda3/envs/mllab/lib/python3.6/site-packages/keras/models.py\u001b[0m in \u001b[0;36mfit\u001b[0;34m(self, x, y, batch_size, epochs, verbose, callbacks, validation_split, validation_data, shuffle, class_weight, sample_weight, initial_epoch, **kwargs)\u001b[0m\n\u001b[1;32m    861\u001b[0m                               \u001b[0mclass_weight\u001b[0m\u001b[0;34m=\u001b[0m\u001b[0mclass_weight\u001b[0m\u001b[0;34m,\u001b[0m\u001b[0;34m\u001b[0m\u001b[0m\n\u001b[1;32m    862\u001b[0m                               \u001b[0msample_weight\u001b[0m\u001b[0;34m=\u001b[0m\u001b[0msample_weight\u001b[0m\u001b[0;34m,\u001b[0m\u001b[0;34m\u001b[0m\u001b[0m\n\u001b[0;32m--> 863\u001b[0;31m                               initial_epoch=initial_epoch)\n\u001b[0m\u001b[1;32m    864\u001b[0m \u001b[0;34m\u001b[0m\u001b[0m\n\u001b[1;32m    865\u001b[0m     def evaluate(self, x, y, batch_size=32, verbose=1,\n",
      "\u001b[0;32m~/anaconda3/envs/mllab/lib/python3.6/site-packages/keras/engine/training.py\u001b[0m in \u001b[0;36mfit\u001b[0;34m(self, x, y, batch_size, epochs, verbose, callbacks, validation_split, validation_data, shuffle, class_weight, sample_weight, initial_epoch, **kwargs)\u001b[0m\n\u001b[1;32m   1428\u001b[0m                               \u001b[0mval_f\u001b[0m\u001b[0;34m=\u001b[0m\u001b[0mval_f\u001b[0m\u001b[0;34m,\u001b[0m \u001b[0mval_ins\u001b[0m\u001b[0;34m=\u001b[0m\u001b[0mval_ins\u001b[0m\u001b[0;34m,\u001b[0m \u001b[0mshuffle\u001b[0m\u001b[0;34m=\u001b[0m\u001b[0mshuffle\u001b[0m\u001b[0;34m,\u001b[0m\u001b[0;34m\u001b[0m\u001b[0m\n\u001b[1;32m   1429\u001b[0m                               \u001b[0mcallback_metrics\u001b[0m\u001b[0;34m=\u001b[0m\u001b[0mcallback_metrics\u001b[0m\u001b[0;34m,\u001b[0m\u001b[0;34m\u001b[0m\u001b[0m\n\u001b[0;32m-> 1430\u001b[0;31m                               initial_epoch=initial_epoch)\n\u001b[0m\u001b[1;32m   1431\u001b[0m \u001b[0;34m\u001b[0m\u001b[0m\n\u001b[1;32m   1432\u001b[0m     \u001b[0;32mdef\u001b[0m \u001b[0mevaluate\u001b[0m\u001b[0;34m(\u001b[0m\u001b[0mself\u001b[0m\u001b[0;34m,\u001b[0m \u001b[0mx\u001b[0m\u001b[0;34m,\u001b[0m \u001b[0my\u001b[0m\u001b[0;34m,\u001b[0m \u001b[0mbatch_size\u001b[0m\u001b[0;34m=\u001b[0m\u001b[0;36m32\u001b[0m\u001b[0;34m,\u001b[0m \u001b[0mverbose\u001b[0m\u001b[0;34m=\u001b[0m\u001b[0;36m1\u001b[0m\u001b[0;34m,\u001b[0m \u001b[0msample_weight\u001b[0m\u001b[0;34m=\u001b[0m\u001b[0;32mNone\u001b[0m\u001b[0;34m)\u001b[0m\u001b[0;34m:\u001b[0m\u001b[0;34m\u001b[0m\u001b[0m\n",
      "\u001b[0;32m~/anaconda3/envs/mllab/lib/python3.6/site-packages/keras/engine/training.py\u001b[0m in \u001b[0;36m_fit_loop\u001b[0;34m(self, f, ins, out_labels, batch_size, epochs, verbose, callbacks, val_f, val_ins, shuffle, callback_metrics, initial_epoch)\u001b[0m\n\u001b[1;32m   1077\u001b[0m                 \u001b[0mbatch_logs\u001b[0m\u001b[0;34m[\u001b[0m\u001b[0;34m'size'\u001b[0m\u001b[0;34m]\u001b[0m \u001b[0;34m=\u001b[0m \u001b[0mlen\u001b[0m\u001b[0;34m(\u001b[0m\u001b[0mbatch_ids\u001b[0m\u001b[0;34m)\u001b[0m\u001b[0;34m\u001b[0m\u001b[0m\n\u001b[1;32m   1078\u001b[0m                 \u001b[0mcallbacks\u001b[0m\u001b[0;34m.\u001b[0m\u001b[0mon_batch_begin\u001b[0m\u001b[0;34m(\u001b[0m\u001b[0mbatch_index\u001b[0m\u001b[0;34m,\u001b[0m \u001b[0mbatch_logs\u001b[0m\u001b[0;34m)\u001b[0m\u001b[0;34m\u001b[0m\u001b[0m\n\u001b[0;32m-> 1079\u001b[0;31m                 \u001b[0mouts\u001b[0m \u001b[0;34m=\u001b[0m \u001b[0mf\u001b[0m\u001b[0;34m(\u001b[0m\u001b[0mins_batch\u001b[0m\u001b[0;34m)\u001b[0m\u001b[0;34m\u001b[0m\u001b[0m\n\u001b[0m\u001b[1;32m   1080\u001b[0m                 \u001b[0;32mif\u001b[0m \u001b[0;32mnot\u001b[0m \u001b[0misinstance\u001b[0m\u001b[0;34m(\u001b[0m\u001b[0mouts\u001b[0m\u001b[0;34m,\u001b[0m \u001b[0mlist\u001b[0m\u001b[0;34m)\u001b[0m\u001b[0;34m:\u001b[0m\u001b[0;34m\u001b[0m\u001b[0m\n\u001b[1;32m   1081\u001b[0m                     \u001b[0mouts\u001b[0m \u001b[0;34m=\u001b[0m \u001b[0;34m[\u001b[0m\u001b[0mouts\u001b[0m\u001b[0;34m]\u001b[0m\u001b[0;34m\u001b[0m\u001b[0m\n",
      "\u001b[0;32m~/anaconda3/envs/mllab/lib/python3.6/site-packages/keras/backend/tensorflow_backend.py\u001b[0m in \u001b[0;36m__call__\u001b[0;34m(self, inputs)\u001b[0m\n\u001b[1;32m   2266\u001b[0m         updated = session.run(self.outputs + [self.updates_op],\n\u001b[1;32m   2267\u001b[0m                               \u001b[0mfeed_dict\u001b[0m\u001b[0;34m=\u001b[0m\u001b[0mfeed_dict\u001b[0m\u001b[0;34m,\u001b[0m\u001b[0;34m\u001b[0m\u001b[0m\n\u001b[0;32m-> 2268\u001b[0;31m                               **self.session_kwargs)\n\u001b[0m\u001b[1;32m   2269\u001b[0m         \u001b[0;32mreturn\u001b[0m \u001b[0mupdated\u001b[0m\u001b[0;34m[\u001b[0m\u001b[0;34m:\u001b[0m\u001b[0mlen\u001b[0m\u001b[0;34m(\u001b[0m\u001b[0mself\u001b[0m\u001b[0;34m.\u001b[0m\u001b[0moutputs\u001b[0m\u001b[0;34m)\u001b[0m\u001b[0;34m]\u001b[0m\u001b[0;34m\u001b[0m\u001b[0m\n\u001b[1;32m   2270\u001b[0m \u001b[0;34m\u001b[0m\u001b[0m\n",
      "\u001b[0;32m~/anaconda3/envs/mllab/lib/python3.6/site-packages/tensorflow/python/client/session.py\u001b[0m in \u001b[0;36mrun\u001b[0;34m(self, fetches, feed_dict, options, run_metadata)\u001b[0m\n\u001b[1;32m    765\u001b[0m     \u001b[0;32mtry\u001b[0m\u001b[0;34m:\u001b[0m\u001b[0;34m\u001b[0m\u001b[0m\n\u001b[1;32m    766\u001b[0m       result = self._run(None, fetches, feed_dict, options_ptr,\n\u001b[0;32m--> 767\u001b[0;31m                          run_metadata_ptr)\n\u001b[0m\u001b[1;32m    768\u001b[0m       \u001b[0;32mif\u001b[0m \u001b[0mrun_metadata\u001b[0m\u001b[0;34m:\u001b[0m\u001b[0;34m\u001b[0m\u001b[0m\n\u001b[1;32m    769\u001b[0m         \u001b[0mproto_data\u001b[0m \u001b[0;34m=\u001b[0m \u001b[0mtf_session\u001b[0m\u001b[0;34m.\u001b[0m\u001b[0mTF_GetBuffer\u001b[0m\u001b[0;34m(\u001b[0m\u001b[0mrun_metadata_ptr\u001b[0m\u001b[0;34m)\u001b[0m\u001b[0;34m\u001b[0m\u001b[0m\n",
      "\u001b[0;32m~/anaconda3/envs/mllab/lib/python3.6/site-packages/tensorflow/python/client/session.py\u001b[0m in \u001b[0;36m_run\u001b[0;34m(self, handle, fetches, feed_dict, options, run_metadata)\u001b[0m\n\u001b[1;32m    963\u001b[0m     \u001b[0;32mif\u001b[0m \u001b[0mfinal_fetches\u001b[0m \u001b[0;32mor\u001b[0m \u001b[0mfinal_targets\u001b[0m\u001b[0;34m:\u001b[0m\u001b[0;34m\u001b[0m\u001b[0m\n\u001b[1;32m    964\u001b[0m       results = self._do_run(handle, final_targets, final_fetches,\n\u001b[0;32m--> 965\u001b[0;31m                              feed_dict_string, options, run_metadata)\n\u001b[0m\u001b[1;32m    966\u001b[0m     \u001b[0;32melse\u001b[0m\u001b[0;34m:\u001b[0m\u001b[0;34m\u001b[0m\u001b[0m\n\u001b[1;32m    967\u001b[0m       \u001b[0mresults\u001b[0m \u001b[0;34m=\u001b[0m \u001b[0;34m[\u001b[0m\u001b[0;34m]\u001b[0m\u001b[0;34m\u001b[0m\u001b[0m\n",
      "\u001b[0;32m~/anaconda3/envs/mllab/lib/python3.6/site-packages/tensorflow/python/client/session.py\u001b[0m in \u001b[0;36m_do_run\u001b[0;34m(self, handle, target_list, fetch_list, feed_dict, options, run_metadata)\u001b[0m\n\u001b[1;32m   1013\u001b[0m     \u001b[0;32mif\u001b[0m \u001b[0mhandle\u001b[0m \u001b[0;32mis\u001b[0m \u001b[0;32mNone\u001b[0m\u001b[0;34m:\u001b[0m\u001b[0;34m\u001b[0m\u001b[0m\n\u001b[1;32m   1014\u001b[0m       return self._do_call(_run_fn, self._session, feed_dict, fetch_list,\n\u001b[0;32m-> 1015\u001b[0;31m                            target_list, options, run_metadata)\n\u001b[0m\u001b[1;32m   1016\u001b[0m     \u001b[0;32melse\u001b[0m\u001b[0;34m:\u001b[0m\u001b[0;34m\u001b[0m\u001b[0m\n\u001b[1;32m   1017\u001b[0m       return self._do_call(_prun_fn, self._session, handle, feed_dict,\n",
      "\u001b[0;32m~/anaconda3/envs/mllab/lib/python3.6/site-packages/tensorflow/python/client/session.py\u001b[0m in \u001b[0;36m_do_call\u001b[0;34m(self, fn, *args)\u001b[0m\n\u001b[1;32m   1020\u001b[0m   \u001b[0;32mdef\u001b[0m \u001b[0m_do_call\u001b[0m\u001b[0;34m(\u001b[0m\u001b[0mself\u001b[0m\u001b[0;34m,\u001b[0m \u001b[0mfn\u001b[0m\u001b[0;34m,\u001b[0m \u001b[0;34m*\u001b[0m\u001b[0margs\u001b[0m\u001b[0;34m)\u001b[0m\u001b[0;34m:\u001b[0m\u001b[0;34m\u001b[0m\u001b[0m\n\u001b[1;32m   1021\u001b[0m     \u001b[0;32mtry\u001b[0m\u001b[0;34m:\u001b[0m\u001b[0;34m\u001b[0m\u001b[0m\n\u001b[0;32m-> 1022\u001b[0;31m       \u001b[0;32mreturn\u001b[0m \u001b[0mfn\u001b[0m\u001b[0;34m(\u001b[0m\u001b[0;34m*\u001b[0m\u001b[0margs\u001b[0m\u001b[0;34m)\u001b[0m\u001b[0;34m\u001b[0m\u001b[0m\n\u001b[0m\u001b[1;32m   1023\u001b[0m     \u001b[0;32mexcept\u001b[0m \u001b[0merrors\u001b[0m\u001b[0;34m.\u001b[0m\u001b[0mOpError\u001b[0m \u001b[0;32mas\u001b[0m \u001b[0me\u001b[0m\u001b[0;34m:\u001b[0m\u001b[0;34m\u001b[0m\u001b[0m\n\u001b[1;32m   1024\u001b[0m       \u001b[0mmessage\u001b[0m \u001b[0;34m=\u001b[0m \u001b[0mcompat\u001b[0m\u001b[0;34m.\u001b[0m\u001b[0mas_text\u001b[0m\u001b[0;34m(\u001b[0m\u001b[0me\u001b[0m\u001b[0;34m.\u001b[0m\u001b[0mmessage\u001b[0m\u001b[0;34m)\u001b[0m\u001b[0;34m\u001b[0m\u001b[0m\n",
      "\u001b[0;32m~/anaconda3/envs/mllab/lib/python3.6/site-packages/tensorflow/python/client/session.py\u001b[0m in \u001b[0;36m_run_fn\u001b[0;34m(session, feed_dict, fetch_list, target_list, options, run_metadata)\u001b[0m\n\u001b[1;32m   1002\u001b[0m         return tf_session.TF_Run(session, options,\n\u001b[1;32m   1003\u001b[0m                                  \u001b[0mfeed_dict\u001b[0m\u001b[0;34m,\u001b[0m \u001b[0mfetch_list\u001b[0m\u001b[0;34m,\u001b[0m \u001b[0mtarget_list\u001b[0m\u001b[0;34m,\u001b[0m\u001b[0;34m\u001b[0m\u001b[0m\n\u001b[0;32m-> 1004\u001b[0;31m                                  status, run_metadata)\n\u001b[0m\u001b[1;32m   1005\u001b[0m \u001b[0;34m\u001b[0m\u001b[0m\n\u001b[1;32m   1006\u001b[0m     \u001b[0;32mdef\u001b[0m \u001b[0m_prun_fn\u001b[0m\u001b[0;34m(\u001b[0m\u001b[0msession\u001b[0m\u001b[0;34m,\u001b[0m \u001b[0mhandle\u001b[0m\u001b[0;34m,\u001b[0m \u001b[0mfeed_dict\u001b[0m\u001b[0;34m,\u001b[0m \u001b[0mfetch_list\u001b[0m\u001b[0;34m)\u001b[0m\u001b[0;34m:\u001b[0m\u001b[0;34m\u001b[0m\u001b[0m\n",
      "\u001b[0;31mKeyboardInterrupt\u001b[0m: "
     ]
    }
   ],
   "source": [
    "batch_size = 200\n",
    "model = get_deeper_rnn()\n",
    "checkpointer = ModelCheckpoint(filepath='one_char.hdf5', verbose=1, save_best_only=True)\n",
    "\n",
    "# train the model\n",
    "history = model.fit(X_train, y_train, batch_size=batch_size, epochs=40, verbose = 1, \n",
    "                    validation_data = (X_validation, y_validation),\n",
    "                    callbacks=[checkpointer, plo])"
   ]
  },
  {
   "cell_type": "code",
   "execution_count": 51,
   "metadata": {},
   "outputs": [
    {
     "name": "stdout",
     "output_type": "stream",
     "text": [
      "input shape =  (1, 88)\n",
      "Train on 383052 samples, validate on 351033 samples\n",
      "Epoch 1/40\n",
      "383000/383052 [============================>.] - ETA: 0s - loss: 2.5720Epoch 00000: val_loss improved from inf to 2.48893, saving model to one_char.hdf5\n",
      "383052/383052 [==============================] - 186s - loss: 2.5719 - val_loss: 2.4889\n",
      "Epoch 2/40\n",
      " 94600/383052 [======>.......................] - ETA: 114s - loss: 2.5042"
     ]
    },
    {
     "ename": "KeyboardInterrupt",
     "evalue": "",
     "output_type": "error",
     "traceback": [
      "\u001b[0;31m---------------------------------------------------------------------------\u001b[0m",
      "\u001b[0;31mKeyboardInterrupt\u001b[0m                         Traceback (most recent call last)",
      "\u001b[0;32m<ipython-input-51-c6cec2385045>\u001b[0m in \u001b[0;36m<module>\u001b[0;34m()\u001b[0m\n\u001b[1;32m      6\u001b[0m history = model.fit(X_train, y_train, batch_size=batch_size, epochs=40, verbose = 1, \n\u001b[1;32m      7\u001b[0m                     \u001b[0mvalidation_data\u001b[0m \u001b[0;34m=\u001b[0m \u001b[0;34m(\u001b[0m\u001b[0mX_validation\u001b[0m\u001b[0;34m,\u001b[0m \u001b[0my_validation\u001b[0m\u001b[0;34m)\u001b[0m\u001b[0;34m,\u001b[0m\u001b[0;34m\u001b[0m\u001b[0m\n\u001b[0;32m----> 8\u001b[0;31m                     callbacks=[checkpointer], shuffle=False)\n\u001b[0m",
      "\u001b[0;32m~/anaconda3/envs/mllab/lib/python3.6/site-packages/keras/models.py\u001b[0m in \u001b[0;36mfit\u001b[0;34m(self, x, y, batch_size, epochs, verbose, callbacks, validation_split, validation_data, shuffle, class_weight, sample_weight, initial_epoch, **kwargs)\u001b[0m\n\u001b[1;32m    861\u001b[0m                               \u001b[0mclass_weight\u001b[0m\u001b[0;34m=\u001b[0m\u001b[0mclass_weight\u001b[0m\u001b[0;34m,\u001b[0m\u001b[0;34m\u001b[0m\u001b[0m\n\u001b[1;32m    862\u001b[0m                               \u001b[0msample_weight\u001b[0m\u001b[0;34m=\u001b[0m\u001b[0msample_weight\u001b[0m\u001b[0;34m,\u001b[0m\u001b[0;34m\u001b[0m\u001b[0m\n\u001b[0;32m--> 863\u001b[0;31m                               initial_epoch=initial_epoch)\n\u001b[0m\u001b[1;32m    864\u001b[0m \u001b[0;34m\u001b[0m\u001b[0m\n\u001b[1;32m    865\u001b[0m     def evaluate(self, x, y, batch_size=32, verbose=1,\n",
      "\u001b[0;32m~/anaconda3/envs/mllab/lib/python3.6/site-packages/keras/engine/training.py\u001b[0m in \u001b[0;36mfit\u001b[0;34m(self, x, y, batch_size, epochs, verbose, callbacks, validation_split, validation_data, shuffle, class_weight, sample_weight, initial_epoch, **kwargs)\u001b[0m\n\u001b[1;32m   1428\u001b[0m                               \u001b[0mval_f\u001b[0m\u001b[0;34m=\u001b[0m\u001b[0mval_f\u001b[0m\u001b[0;34m,\u001b[0m \u001b[0mval_ins\u001b[0m\u001b[0;34m=\u001b[0m\u001b[0mval_ins\u001b[0m\u001b[0;34m,\u001b[0m \u001b[0mshuffle\u001b[0m\u001b[0;34m=\u001b[0m\u001b[0mshuffle\u001b[0m\u001b[0;34m,\u001b[0m\u001b[0;34m\u001b[0m\u001b[0m\n\u001b[1;32m   1429\u001b[0m                               \u001b[0mcallback_metrics\u001b[0m\u001b[0;34m=\u001b[0m\u001b[0mcallback_metrics\u001b[0m\u001b[0;34m,\u001b[0m\u001b[0;34m\u001b[0m\u001b[0m\n\u001b[0;32m-> 1430\u001b[0;31m                               initial_epoch=initial_epoch)\n\u001b[0m\u001b[1;32m   1431\u001b[0m \u001b[0;34m\u001b[0m\u001b[0m\n\u001b[1;32m   1432\u001b[0m     \u001b[0;32mdef\u001b[0m \u001b[0mevaluate\u001b[0m\u001b[0;34m(\u001b[0m\u001b[0mself\u001b[0m\u001b[0;34m,\u001b[0m \u001b[0mx\u001b[0m\u001b[0;34m,\u001b[0m \u001b[0my\u001b[0m\u001b[0;34m,\u001b[0m \u001b[0mbatch_size\u001b[0m\u001b[0;34m=\u001b[0m\u001b[0;36m32\u001b[0m\u001b[0;34m,\u001b[0m \u001b[0mverbose\u001b[0m\u001b[0;34m=\u001b[0m\u001b[0;36m1\u001b[0m\u001b[0;34m,\u001b[0m \u001b[0msample_weight\u001b[0m\u001b[0;34m=\u001b[0m\u001b[0;32mNone\u001b[0m\u001b[0;34m)\u001b[0m\u001b[0;34m:\u001b[0m\u001b[0;34m\u001b[0m\u001b[0m\n",
      "\u001b[0;32m~/anaconda3/envs/mllab/lib/python3.6/site-packages/keras/engine/training.py\u001b[0m in \u001b[0;36m_fit_loop\u001b[0;34m(self, f, ins, out_labels, batch_size, epochs, verbose, callbacks, val_f, val_ins, shuffle, callback_metrics, initial_epoch)\u001b[0m\n\u001b[1;32m   1077\u001b[0m                 \u001b[0mbatch_logs\u001b[0m\u001b[0;34m[\u001b[0m\u001b[0;34m'size'\u001b[0m\u001b[0;34m]\u001b[0m \u001b[0;34m=\u001b[0m \u001b[0mlen\u001b[0m\u001b[0;34m(\u001b[0m\u001b[0mbatch_ids\u001b[0m\u001b[0;34m)\u001b[0m\u001b[0;34m\u001b[0m\u001b[0m\n\u001b[1;32m   1078\u001b[0m                 \u001b[0mcallbacks\u001b[0m\u001b[0;34m.\u001b[0m\u001b[0mon_batch_begin\u001b[0m\u001b[0;34m(\u001b[0m\u001b[0mbatch_index\u001b[0m\u001b[0;34m,\u001b[0m \u001b[0mbatch_logs\u001b[0m\u001b[0;34m)\u001b[0m\u001b[0;34m\u001b[0m\u001b[0m\n\u001b[0;32m-> 1079\u001b[0;31m                 \u001b[0mouts\u001b[0m \u001b[0;34m=\u001b[0m \u001b[0mf\u001b[0m\u001b[0;34m(\u001b[0m\u001b[0mins_batch\u001b[0m\u001b[0;34m)\u001b[0m\u001b[0;34m\u001b[0m\u001b[0m\n\u001b[0m\u001b[1;32m   1080\u001b[0m                 \u001b[0;32mif\u001b[0m \u001b[0;32mnot\u001b[0m \u001b[0misinstance\u001b[0m\u001b[0;34m(\u001b[0m\u001b[0mouts\u001b[0m\u001b[0;34m,\u001b[0m \u001b[0mlist\u001b[0m\u001b[0;34m)\u001b[0m\u001b[0;34m:\u001b[0m\u001b[0;34m\u001b[0m\u001b[0m\n\u001b[1;32m   1081\u001b[0m                     \u001b[0mouts\u001b[0m \u001b[0;34m=\u001b[0m \u001b[0;34m[\u001b[0m\u001b[0mouts\u001b[0m\u001b[0;34m]\u001b[0m\u001b[0;34m\u001b[0m\u001b[0m\n",
      "\u001b[0;32m~/anaconda3/envs/mllab/lib/python3.6/site-packages/keras/backend/tensorflow_backend.py\u001b[0m in \u001b[0;36m__call__\u001b[0;34m(self, inputs)\u001b[0m\n\u001b[1;32m   2266\u001b[0m         updated = session.run(self.outputs + [self.updates_op],\n\u001b[1;32m   2267\u001b[0m                               \u001b[0mfeed_dict\u001b[0m\u001b[0;34m=\u001b[0m\u001b[0mfeed_dict\u001b[0m\u001b[0;34m,\u001b[0m\u001b[0;34m\u001b[0m\u001b[0m\n\u001b[0;32m-> 2268\u001b[0;31m                               **self.session_kwargs)\n\u001b[0m\u001b[1;32m   2269\u001b[0m         \u001b[0;32mreturn\u001b[0m \u001b[0mupdated\u001b[0m\u001b[0;34m[\u001b[0m\u001b[0;34m:\u001b[0m\u001b[0mlen\u001b[0m\u001b[0;34m(\u001b[0m\u001b[0mself\u001b[0m\u001b[0;34m.\u001b[0m\u001b[0moutputs\u001b[0m\u001b[0;34m)\u001b[0m\u001b[0;34m]\u001b[0m\u001b[0;34m\u001b[0m\u001b[0m\n\u001b[1;32m   2270\u001b[0m \u001b[0;34m\u001b[0m\u001b[0m\n",
      "\u001b[0;32m~/anaconda3/envs/mllab/lib/python3.6/site-packages/tensorflow/python/client/session.py\u001b[0m in \u001b[0;36mrun\u001b[0;34m(self, fetches, feed_dict, options, run_metadata)\u001b[0m\n\u001b[1;32m    765\u001b[0m     \u001b[0;32mtry\u001b[0m\u001b[0;34m:\u001b[0m\u001b[0;34m\u001b[0m\u001b[0m\n\u001b[1;32m    766\u001b[0m       result = self._run(None, fetches, feed_dict, options_ptr,\n\u001b[0;32m--> 767\u001b[0;31m                          run_metadata_ptr)\n\u001b[0m\u001b[1;32m    768\u001b[0m       \u001b[0;32mif\u001b[0m \u001b[0mrun_metadata\u001b[0m\u001b[0;34m:\u001b[0m\u001b[0;34m\u001b[0m\u001b[0m\n\u001b[1;32m    769\u001b[0m         \u001b[0mproto_data\u001b[0m \u001b[0;34m=\u001b[0m \u001b[0mtf_session\u001b[0m\u001b[0;34m.\u001b[0m\u001b[0mTF_GetBuffer\u001b[0m\u001b[0;34m(\u001b[0m\u001b[0mrun_metadata_ptr\u001b[0m\u001b[0;34m)\u001b[0m\u001b[0;34m\u001b[0m\u001b[0m\n",
      "\u001b[0;32m~/anaconda3/envs/mllab/lib/python3.6/site-packages/tensorflow/python/client/session.py\u001b[0m in \u001b[0;36m_run\u001b[0;34m(self, handle, fetches, feed_dict, options, run_metadata)\u001b[0m\n\u001b[1;32m    963\u001b[0m     \u001b[0;32mif\u001b[0m \u001b[0mfinal_fetches\u001b[0m \u001b[0;32mor\u001b[0m \u001b[0mfinal_targets\u001b[0m\u001b[0;34m:\u001b[0m\u001b[0;34m\u001b[0m\u001b[0m\n\u001b[1;32m    964\u001b[0m       results = self._do_run(handle, final_targets, final_fetches,\n\u001b[0;32m--> 965\u001b[0;31m                              feed_dict_string, options, run_metadata)\n\u001b[0m\u001b[1;32m    966\u001b[0m     \u001b[0;32melse\u001b[0m\u001b[0;34m:\u001b[0m\u001b[0;34m\u001b[0m\u001b[0m\n\u001b[1;32m    967\u001b[0m       \u001b[0mresults\u001b[0m \u001b[0;34m=\u001b[0m \u001b[0;34m[\u001b[0m\u001b[0;34m]\u001b[0m\u001b[0;34m\u001b[0m\u001b[0m\n",
      "\u001b[0;32m~/anaconda3/envs/mllab/lib/python3.6/site-packages/tensorflow/python/client/session.py\u001b[0m in \u001b[0;36m_do_run\u001b[0;34m(self, handle, target_list, fetch_list, feed_dict, options, run_metadata)\u001b[0m\n\u001b[1;32m   1013\u001b[0m     \u001b[0;32mif\u001b[0m \u001b[0mhandle\u001b[0m \u001b[0;32mis\u001b[0m \u001b[0;32mNone\u001b[0m\u001b[0;34m:\u001b[0m\u001b[0;34m\u001b[0m\u001b[0m\n\u001b[1;32m   1014\u001b[0m       return self._do_call(_run_fn, self._session, feed_dict, fetch_list,\n\u001b[0;32m-> 1015\u001b[0;31m                            target_list, options, run_metadata)\n\u001b[0m\u001b[1;32m   1016\u001b[0m     \u001b[0;32melse\u001b[0m\u001b[0;34m:\u001b[0m\u001b[0;34m\u001b[0m\u001b[0m\n\u001b[1;32m   1017\u001b[0m       return self._do_call(_prun_fn, self._session, handle, feed_dict,\n",
      "\u001b[0;32m~/anaconda3/envs/mllab/lib/python3.6/site-packages/tensorflow/python/client/session.py\u001b[0m in \u001b[0;36m_do_call\u001b[0;34m(self, fn, *args)\u001b[0m\n\u001b[1;32m   1020\u001b[0m   \u001b[0;32mdef\u001b[0m \u001b[0m_do_call\u001b[0m\u001b[0;34m(\u001b[0m\u001b[0mself\u001b[0m\u001b[0;34m,\u001b[0m \u001b[0mfn\u001b[0m\u001b[0;34m,\u001b[0m \u001b[0;34m*\u001b[0m\u001b[0margs\u001b[0m\u001b[0;34m)\u001b[0m\u001b[0;34m:\u001b[0m\u001b[0;34m\u001b[0m\u001b[0m\n\u001b[1;32m   1021\u001b[0m     \u001b[0;32mtry\u001b[0m\u001b[0;34m:\u001b[0m\u001b[0;34m\u001b[0m\u001b[0m\n\u001b[0;32m-> 1022\u001b[0;31m       \u001b[0;32mreturn\u001b[0m \u001b[0mfn\u001b[0m\u001b[0;34m(\u001b[0m\u001b[0;34m*\u001b[0m\u001b[0margs\u001b[0m\u001b[0;34m)\u001b[0m\u001b[0;34m\u001b[0m\u001b[0m\n\u001b[0m\u001b[1;32m   1023\u001b[0m     \u001b[0;32mexcept\u001b[0m \u001b[0merrors\u001b[0m\u001b[0;34m.\u001b[0m\u001b[0mOpError\u001b[0m \u001b[0;32mas\u001b[0m \u001b[0me\u001b[0m\u001b[0;34m:\u001b[0m\u001b[0;34m\u001b[0m\u001b[0m\n\u001b[1;32m   1024\u001b[0m       \u001b[0mmessage\u001b[0m \u001b[0;34m=\u001b[0m \u001b[0mcompat\u001b[0m\u001b[0;34m.\u001b[0m\u001b[0mas_text\u001b[0m\u001b[0;34m(\u001b[0m\u001b[0me\u001b[0m\u001b[0;34m.\u001b[0m\u001b[0mmessage\u001b[0m\u001b[0;34m)\u001b[0m\u001b[0;34m\u001b[0m\u001b[0m\n",
      "\u001b[0;32m~/anaconda3/envs/mllab/lib/python3.6/site-packages/tensorflow/python/client/session.py\u001b[0m in \u001b[0;36m_run_fn\u001b[0;34m(session, feed_dict, fetch_list, target_list, options, run_metadata)\u001b[0m\n\u001b[1;32m   1002\u001b[0m         return tf_session.TF_Run(session, options,\n\u001b[1;32m   1003\u001b[0m                                  \u001b[0mfeed_dict\u001b[0m\u001b[0;34m,\u001b[0m \u001b[0mfetch_list\u001b[0m\u001b[0;34m,\u001b[0m \u001b[0mtarget_list\u001b[0m\u001b[0;34m,\u001b[0m\u001b[0;34m\u001b[0m\u001b[0m\n\u001b[0;32m-> 1004\u001b[0;31m                                  status, run_metadata)\n\u001b[0m\u001b[1;32m   1005\u001b[0m \u001b[0;34m\u001b[0m\u001b[0m\n\u001b[1;32m   1006\u001b[0m     \u001b[0;32mdef\u001b[0m \u001b[0m_prun_fn\u001b[0m\u001b[0;34m(\u001b[0m\u001b[0msession\u001b[0m\u001b[0;34m,\u001b[0m \u001b[0mhandle\u001b[0m\u001b[0;34m,\u001b[0m \u001b[0mfeed_dict\u001b[0m\u001b[0;34m,\u001b[0m \u001b[0mfetch_list\u001b[0m\u001b[0;34m)\u001b[0m\u001b[0;34m:\u001b[0m\u001b[0;34m\u001b[0m\u001b[0m\n",
      "\u001b[0;31mKeyboardInterrupt\u001b[0m: "
     ]
    }
   ],
   "source": [
    "batch_size = 200\n",
    "model = get_deeper_rnn()\n",
    "checkpointer = ModelCheckpoint(filepath='one_char.hdf5', verbose=1, save_best_only=True)\n",
    "\n",
    "# train the model\n",
    "history = model.fit(X_train, y_train, batch_size=batch_size, epochs=40, verbose = 1, \n",
    "                    validation_data = (X_validation, y_validation),\n",
    "                    callbacks=[checkpointer], shuffle=False)"
   ]
  }
 ],
 "metadata": {
  "kernelspec": {
   "display_name": "Python 3",
   "language": "python",
   "name": "python3"
  },
  "language_info": {
   "codemirror_mode": {
    "name": "ipython",
    "version": 3
   },
   "file_extension": ".py",
   "mimetype": "text/x-python",
   "name": "python",
   "nbconvert_exporter": "python",
   "pygments_lexer": "ipython3",
   "version": "3.6.2"
  },
  "toc": {
   "nav_menu": {},
   "number_sections": true,
   "sideBar": true,
   "skip_h1_title": true,
   "toc_cell": false,
   "toc_position": {},
   "toc_section_display": "block",
   "toc_window_display": false
  }
 },
 "nbformat": 4,
 "nbformat_minor": 2
}
