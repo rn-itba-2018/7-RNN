{
 "cells": [
  {
   "cell_type": "code",
   "execution_count": 11,
   "metadata": {},
   "outputs": [
    {
     "name": "stdout",
     "output_type": "stream",
     "text": [
      "____________________________________________________________________________________________________\n",
      "Layer (type)                     Output Shape          Param #     Connected to                     \n",
      "====================================================================================================\n",
      "Encoder_Inputs (InputLayer)      (None, None, 71)      0                                            \n",
      "____________________________________________________________________________________________________\n",
      "Dencoder_Inputs (InputLayer)     (None, None, 93)      0                                            \n",
      "____________________________________________________________________________________________________\n",
      "Encoder_LSTM (LSTM)              [(None, 256), (None,  335872      Encoder_Inputs[0][0]             \n",
      "____________________________________________________________________________________________________\n",
      "Decoder_LSTM (LSTM)              [(None, None, 256), ( 358400      Dencoder_Inputs[0][0]            \n",
      "                                                                   Encoder_LSTM[0][1]               \n",
      "                                                                   Encoder_LSTM[0][2]               \n",
      "____________________________________________________________________________________________________\n",
      "Model_Output (Dense)             (None, None, 93)      23901       Decoder_LSTM[0][0]               \n",
      "====================================================================================================\n",
      "Total params: 718,173\n",
      "Trainable params: 718,173\n",
      "Non-trainable params: 0\n",
      "____________________________________________________________________________________________________\n"
     ]
    }
   ],
   "source": [
    "from keras.models import Model\n",
    "from keras.layers import Input, LSTM, Dense, TimeDistributed\n",
    "num_encoder_tokens = 71\n",
    "num_decoder_tokens = 93\n",
    "\n",
    "# Esto es donde guardará el contexto\n",
    "latent_dim = 256  # Latent dimensionality of the encoding space.\n",
    "\n",
    "# Define an input sequence and process it.\n",
    "encoder_inputs = Input(shape=(None, num_encoder_tokens), name=\"Encoder_Inputs\") #num_encoder_tokens es la cantidad de features a la entrada\n",
    "encoder = LSTM(latent_dim, return_state=True, return_sequences=False, name=\"Encoder_LSTM\")\n",
    "encoder_outputs, state_h, state_c = encoder(encoder_inputs)\n",
    "# We discard `encoder_outputs` and only keep the states.\n",
    "encoder_states = [state_h, state_c]\n",
    "\n",
    "# Set up the decoder, using `encoder_states` as initial state.\n",
    "decoder_inputs = Input(shape=(None, num_decoder_tokens), name=\"Dencoder_Inputs\") #num_decoder_tokens es la cantidad de features a la entrada del decoder\n",
    "# We set up our decoder to return full output sequences,\n",
    "# and to return internal states as well. We don't use the \n",
    "# return states in the training model, but we will use them in inference.\n",
    "decoder_lstm = LSTM(latent_dim, return_sequences=True, return_state=True, name=\"Decoder_LSTM\")\n",
    "decoder_outputs, _, _ = decoder_lstm(decoder_inputs,\n",
    "                                     initial_state=encoder_states)\n",
    "decoder_dense = Dense(num_decoder_tokens, activation='softmax', name='Model_Output')\n",
    "decoder_outputs = decoder_dense(decoder_outputs)\n",
    "\n",
    "# Define the model that will turn\n",
    "# `encoder_input_data` & `decoder_input_data` into `decoder_target_data`\n",
    "model = Model([encoder_inputs, decoder_inputs], decoder_outputs)\n",
    "model.summary()"
   ]
  },
  {
   "cell_type": "markdown",
   "metadata": {},
   "source": [
    "## Encoder"
   ]
  },
  {
   "cell_type": "markdown",
   "metadata": {},
   "source": [
    "La diferencia entre **encoder_outputs** y **state_h** es que cuando **return_state=True**, **encoder_outputs** devuelve la secuencia mientras que **state_h** devuelve solo el estado del ultimo timestep"
   ]
  },
  {
   "cell_type": "raw",
   "metadata": {},
   "source": [
    "return_state=False\n",
    "encoder.get_output_at(0)\n",
    "[<tf.Tensor 'Encoder_LSTM_3/TensorArrayReadV3:0' shape=(?, 256) dtype=float32>,\n",
    " <tf.Tensor 'Encoder_LSTM_3/while/Exit_2:0' shape=(?, 256) dtype=float32>,\n",
    " <tf.Tensor 'Encoder_LSTM_3/while/Exit_3:0' shape=(?, 256) dtype=float32>]"
   ]
  },
  {
   "cell_type": "raw",
   "metadata": {},
   "source": [
    "return_state=True\n",
    "encoder.get_output_at(0)\n",
    "[<tf.Tensor 'Encoder_LSTM_2/transpose_1:0' shape=(?, ?, 256) dtype=float32>,\n",
    " <tf.Tensor 'Encoder_LSTM_2/while/Exit_2:0' shape=(?, 256) dtype=float32>,\n",
    " <tf.Tensor 'Encoder_LSTM_2/while/Exit_3:0' shape=(?, 256) dtype=float32>]"
   ]
  },
  {
   "cell_type": "markdown",
   "metadata": {},
   "source": [
    "## Decoder"
   ]
  },
  {
   "cell_type": "code",
   "execution_count": 16,
   "metadata": {},
   "outputs": [
    {
     "data": {
      "text/plain": [
       "[<tf.Tensor 'Decoder_LSTM_2/transpose_1:0' shape=(?, ?, 256) dtype=float32>,\n",
       " <tf.Tensor 'Decoder_LSTM_2/while/Exit_2:0' shape=(?, 256) dtype=float32>,\n",
       " <tf.Tensor 'Decoder_LSTM_2/while/Exit_3:0' shape=(?, 256) dtype=float32>]"
      ]
     },
     "execution_count": 16,
     "metadata": {},
     "output_type": "execute_result"
    }
   ],
   "source": [
    "decoder_lstm.get_output_at(0)"
   ]
  },
  {
   "cell_type": "markdown",
   "metadata": {},
   "source": [
    "decoder_outputs ya esta TimeDistributed"
   ]
  },
  {
   "cell_type": "code",
   "execution_count": null,
   "metadata": {
    "collapsed": true
   },
   "outputs": [],
   "source": []
  }
 ],
 "metadata": {
  "kernelspec": {
   "display_name": "Python 3",
   "language": "python",
   "name": "python3"
  },
  "language_info": {
   "codemirror_mode": {
    "name": "ipython",
    "version": 3
   },
   "file_extension": ".py",
   "mimetype": "text/x-python",
   "name": "python",
   "nbconvert_exporter": "python",
   "pygments_lexer": "ipython3",
   "version": "3.6.2"
  },
  "toc": {
   "nav_menu": {},
   "number_sections": true,
   "sideBar": true,
   "skip_h1_title": true,
   "toc_cell": false,
   "toc_position": {},
   "toc_section_display": "block",
   "toc_window_display": false
  }
 },
 "nbformat": 4,
 "nbformat_minor": 2
}
