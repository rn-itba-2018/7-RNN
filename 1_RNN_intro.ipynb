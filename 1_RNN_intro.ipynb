{
 "cells": [
  {
   "cell_type": "code",
   "execution_count": 17,
   "metadata": {
    "collapsed": true
   },
   "outputs": [
    {
     "name": "stdout",
     "output_type": "stream",
     "text": [
      "The autoreload extension is already loaded. To reload it, use:\n",
      "  %reload_ext autoreload\n"
     ]
    }
   ],
   "source": [
    "%load_ext autoreload\n",
    "%autoreload 2\n",
    "import sys \n",
    "import numpy as np"
   ]
  },
  {
   "cell_type": "markdown",
   "metadata": {},
   "source": [
    "# RNN (Recurrent Neural Networks)\n",
    "Articulos recomendado: \n",
    "- http://karpathy.github.io/2015/05/21/rnn-effectiveness/\n",
    "- http://colah.github.io/posts/2015-08-Understanding-LSTMs/\n",
    "- http://blog.echen.me/2017/05/30/exploring-lstms/"
   ]
  },
  {
   "cell_type": "markdown",
   "metadata": {},
   "source": [
    "## Que tienen de nuevo respecto a MLP y CNN?\n",
    "- MLP y CNN solo aceptan un vector de entrada de tamaño fijo y devuelve un vector de salida de tamaño fijo\n",
    "- RNN trabjan con secuencias tanto a la entrada como a la salida"
   ]
  },
  {
   "cell_type": "markdown",
   "metadata": {},
   "source": [
    "![rnn_types.jpeg](rnn_types.jpeg)"
   ]
  },
  {
   "cell_type": "markdown",
   "metadata": {},
   "source": [
    "Aclaraciones: \n",
    "- Cada cuadrado NO es una neurona si no una capa que puede contener N neuronas\n",
    "- Cada flecha representa la interconexión entre dos capas. Los pesos forman una matriz de la N1xN2 donde N1 y N2 son la cantidad de neuronas en cada capa respectivamente."
   ]
  },
  {
   "cell_type": "markdown",
   "metadata": {},
   "source": [
    "## Tipos\n",
    "- **One to One**: CNN, MLP\n",
    "- **One to many**: [Image captioning](https://www.youtube.com/watch?v=xKt21ucdBY0)\n",
    "- **Many to one**: Sentiment Analisys, Detectar voz de hombre vs voz de mujer\n",
    "- **Many to Many** [(sequence to sequence)](https://youtu.be/dkHdEAJnV_w): [Traducción](https://github.com/jganzabal/aind2-nlp-capstone/blob/master/machine_translation.ipynb)\n",
    "- **Many to Many Sincronizado**: Etiquetado de tramas de video, Brain Computer Interface (BCI): Controlar una silla de ruedas"
   ]
  },
  {
   "cell_type": "markdown",
   "metadata": {},
   "source": [
    "# Modelos de lenguaje Generativos:\n",
    "- Predecir la proxima palabra en funcion de las anteriores\n",
    "- Predecir el proximo caracter en función de los anteriores\n",
    "\n",
    "**Resultado**: Probabilidad en función de una secuencia\n",
    "\n",
    "**Aplicaciones** (Mas allá de la posibilidad de generar texto):\n",
    "- OCR\n",
    "- Speach2Text\n",
    "- Detección de autores"
   ]
  },
  {
   "cell_type": "markdown",
   "metadata": {},
   "source": [
    "## \"If training vanilla neural nets is optimization over functions, training recurrent nets is optimization over programs.\"\n",
    "- Es una secuencia de ejecución mas que una clasificación\n",
    "- Las RNN son Turing completo en principio [Turing Complete](https://en.wikipedia.org/wiki/Turing_completeness), [RNN Turing complete](http://binds.cs.umass.edu/papers/1995_Siegelmann_Science.pdf)"
   ]
  },
  {
   "cell_type": "markdown",
   "metadata": {},
   "source": [
    "# Detalles de la arquitectura:"
   ]
  },
  {
   "cell_type": "markdown",
   "metadata": {},
   "source": [
    "## Unidad de Elman o RNN unit\n",
    "\n",
    "**Nota importante**: Cada unidad no es una neurona sino que una capa\n",
    "\n",
    "![RNN%20vs%20FNN.png](RNN vs FNN.png)\n",
    "¿Cual es el tamaño de $W_h$?\n",
    "\n",
    "Todo se conecta con todo -> Si hay M hidden units tenemos $M^2$ $W_h$s "
   ]
  },
  {
   "cell_type": "markdown",
   "metadata": {},
   "source": [
    "## En ecuaciones:"
   ]
  },
  {
   "cell_type": "markdown",
   "metadata": {},
   "source": [
    "### FFN\n",
    "\n",
    "$h_t = f(W_x^T X_t + b_h)$\n",
    "\n",
    "$y_t = softmax(W_o^T h_t + b_o)$\n",
    "\n",
    "$f$ usualmente RELU, sigmoidea, etc"
   ]
  },
  {
   "cell_type": "markdown",
   "metadata": {},
   "source": [
    "### RNN"
   ]
  },
  {
   "cell_type": "markdown",
   "metadata": {},
   "source": [
    "$h_t = f(W_h^T h_{t-1} + W_x^T X_t + b_h)$\n",
    "\n",
    "$y_t = softmax(W_o^T h_t + b_o)$\n",
    "\n",
    "$f$ es tanh usualmente pero puede ser RELU, sigmoid, etc"
   ]
  },
  {
   "cell_type": "code",
   "execution_count": 18,
   "metadata": {},
   "outputs": [
    {
     "name": "stdout",
     "output_type": "stream",
     "text": [
      "Xt\n",
      "[[ 1]\n",
      " [-1]\n",
      " [ 2]]\n",
      "Wx:\n",
      "[[-1  1]\n",
      " [ 1  0]\n",
      " [ 2  1]]\n",
      "h:\n",
      "[[ 1]\n",
      " [-2]]\n",
      "Wh:\n",
      "[[ 0 -1]\n",
      " [ 2  1]]\n",
      "\n",
      "bh\n",
      "[[-1]\n",
      " [ 1]]\n",
      "Cantidad de parametros de recurrente: 12\n"
     ]
    }
   ],
   "source": [
    "# Ejemplo con dos neuronas en la capa oculta\n",
    "M = 2 # Cantidad de neuronas en la capa oculta\n",
    "\n",
    "h = np.array([1, -2]).reshape(2,1) # Valores iniciales de la capa oculta, vector columna de Mx1\n",
    "Wh = np.array([[0,-1], [2,1]]) # Matriz de pesos de capa oculta MxM\n",
    "\n",
    "# Dimension de entrada 3 en este ejemplo\n",
    "Xt = np.array([1, -1, 2]).reshape(3,1) # vector columna\n",
    "print('Xt')\n",
    "print(Xt)\n",
    "# Dimension de Wx?\n",
    "Wx = np.array([[-1,1],[1,0],[2,1]]) # Dimensión 3x2 para que Wx.T sea de 2x3\n",
    "print(\"Wx:\")\n",
    "print(Wx)\n",
    "\n",
    "bh = np.array([-1, 1]).reshape(2,1) # Dimensión Mx1\n",
    "\n",
    "print('h:')\n",
    "print(h)\n",
    "print('Wh:')\n",
    "print(Wh)\n",
    "print()\n",
    "print('bh')\n",
    "print(bh)\n",
    "total_params_r_layer = Wh.shape[0]*Wh.shape[1] + Wx.shape[0]*Wx.shape[1] + bh.shape[0]\n",
    "print('Cantidad de parametros de recurrente:', total_params_r_layer)"
   ]
  },
  {
   "cell_type": "code",
   "execution_count": 19,
   "metadata": {},
   "outputs": [
    {
     "name": "stdout",
     "output_type": "stream",
     "text": [
      "[[-3]\n",
      " [ 1]]\n",
      "h luego de time step:\n",
      "[[-0.99505475]\n",
      " [ 0.76159416]]\n"
     ]
    }
   ],
   "source": [
    "a = Wh.T.dot(h) + Wx.T.dot(Xt) + bh\n",
    "h_ = np.tanh(a)\n",
    "print(a)\n",
    "print('h luego de time step:')\n",
    "print(h_)"
   ]
  },
  {
   "cell_type": "code",
   "execution_count": 20,
   "metadata": {},
   "outputs": [
    {
     "name": "stdout",
     "output_type": "stream",
     "text": [
      "[[ 0.5  0.4  0.3]\n",
      " [ 0.5  0.1  0.5]]\n",
      "[[ 0.3832697 ]\n",
      " [-0.22186249]\n",
      " [ 0.28228065]]\n",
      "[[ 0.4081724 ]\n",
      " [ 0.22286305]\n",
      " [ 0.36896455]]\n",
      "Cantidad de parametros de capa densa de salida: 9\n"
     ]
    }
   ],
   "source": [
    "# Salida de 3 neuronas\n",
    "Wo = np.array([[0.5, 0.4],[0.3, 0.5],[0.1, 0.5]]).reshape(2,3)\n",
    "bo = np.array([0.5, 0.1, 0.2]).reshape(3,1)\n",
    "ao = Wo.T.dot(h_) + bo\n",
    "print(Wo)\n",
    "print(ao)\n",
    "def softmax(x):\n",
    "    return np.exp(x) / np.sum(np.exp(x), axis=0)\n",
    "\n",
    "print(softmax(ao))\n",
    "total_params_out_layer = Wo.shape[0]*Wo.shape[1] + bo.shape[0]\n",
    "print('Cantidad de parametros de capa densa de salida:', total_params_out_layer)"
   ]
  },
  {
   "cell_type": "markdown",
   "metadata": {},
   "source": [
    "## Con keras"
   ]
  },
  {
   "cell_type": "code",
   "execution_count": 21,
   "metadata": {},
   "outputs": [],
   "source": [
    "from keras.layers import SimpleRNN, Dense\n",
    "from keras.models import Sequential"
   ]
  },
  {
   "cell_type": "code",
   "execution_count": 22,
   "metadata": {},
   "outputs": [
    {
     "name": "stdout",
     "output_type": "stream",
     "text": [
      "_________________________________________________________________\n",
      "Layer (type)                 Output Shape              Param #   \n",
      "=================================================================\n",
      "simple_rnn_2 (SimpleRNN)     (None, 2)                 12        \n",
      "_________________________________________________________________\n",
      "dense_2 (Dense)              (None, 3)                 9         \n",
      "=================================================================\n",
      "Total params: 21\n",
      "Trainable params: 21\n",
      "Non-trainable params: 0\n",
      "_________________________________________________________________\n"
     ]
    }
   ],
   "source": [
    "rnn_neurons = 2\n",
    "time_steps = 100 # T\n",
    "n_features = 3 # D\n",
    "input_shape = (time_steps, n_features)\n",
    "model = Sequential()\n",
    "model.add(SimpleRNN(rnn_neurons, input_shape = input_shape))\n",
    "model.add(Dense(3))\n",
    "model.summary()"
   ]
  },
  {
   "cell_type": "markdown",
   "metadata": {},
   "source": [
    "### Que es time_steps?"
   ]
  },
  {
   "cell_type": "markdown",
   "metadata": {},
   "source": [
    "## Desplegando (Unfolding) la RNN\n",
    "#### BPTT (Back-Propagation Through Time)\n",
    "- Secuencia de longitud 5"
   ]
  },
  {
   "cell_type": "markdown",
   "metadata": {},
   "source": [
    "![unfold%20RNN.png](unfold RNN.png)"
   ]
  },
  {
   "cell_type": "markdown",
   "metadata": {},
   "source": [
    "Observaciones:\n",
    "- Es como una FNN con 5 hidden layers pero con pesos compartidos (Shared weights): $W_h, W_o, W_x$\n",
    "- Donde habiamos visto pesos compartidos?\n",
    "- Se puede pensar como si h fuera la entrada y X es una señal de control en cada paso\n",
    "\n",
    "Preguntas:\n",
    "- Son todas las Y importantes? En que casos?\n",
    "- Que diferencia hay entre estado interno (internal state) de la RNN y los pesos?\n",
    "- Cada cuanto se resetea el estado interno? Y los pesos?"
   ]
  },
  {
   "cell_type": "markdown",
   "metadata": {},
   "source": [
    "# Detalles de la entrada $X$"
   ]
  },
  {
   "cell_type": "markdown",
   "metadata": {},
   "source": [
    "## Entrada en Vanilla Networks:\n",
    "\n",
    "NxD, donde N es la cantidad de muestras y D es la cantidad de features"
   ]
  },
  {
   "cell_type": "code",
   "execution_count": 23,
   "metadata": {
    "collapsed": true
   },
   "outputs": [],
   "source": [
    "import numpy as np"
   ]
  },
  {
   "cell_type": "code",
   "execution_count": 24,
   "metadata": {},
   "outputs": [
    {
     "name": "stdout",
     "output_type": "stream",
     "text": [
      "[[ 0.5  0.3]\n",
      " [ 0.2  0.1]\n",
      " [ 0.7  0.3]]\n",
      "(3, 2)\n"
     ]
    }
   ],
   "source": [
    "# Ejemplo N = 3, D = 2\n",
    "Ex_1 = np.array([[0.5, 0.3], [0.2, 0.1], [0.7, 0.3]])\n",
    "print(Ex_1)\n",
    "print(Ex_1.shape)"
   ]
  },
  {
   "cell_type": "markdown",
   "metadata": {},
   "source": [
    "## Entrada en RNNs:"
   ]
  },
  {
   "cell_type": "markdown",
   "metadata": {},
   "source": [
    "Secuencias de longitud fija\n",
    "\n",
    "NxTxD, donde T es la longitud de la secuencia"
   ]
  },
  {
   "cell_type": "code",
   "execution_count": 25,
   "metadata": {},
   "outputs": [
    {
     "name": "stdout",
     "output_type": "stream",
     "text": [
      "[[[ 0.5   0.3 ]\n",
      "  [ 0.2   0.1 ]\n",
      "  [ 0.7   0.3 ]]\n",
      "\n",
      " [[ 0.54  0.1 ]\n",
      "  [ 0.23  0.3 ]\n",
      "  [ 0.9   0.1 ]]\n",
      "\n",
      " [[ 0.5   0.3 ]\n",
      "  [ 0.2   0.1 ]\n",
      "  [ 0.7   0.3 ]]\n",
      "\n",
      " [[ 0.54  0.1 ]\n",
      "  [ 0.23  0.3 ]\n",
      "  [ 0.9   0.1 ]]]\n",
      "(4, 3, 2)\n"
     ]
    }
   ],
   "source": [
    "# Ejemplo N = 4, T = 3, D=2\n",
    "Ex_2 = np.array([[[0.5, 0.3], [0.2, 0.1], [0.7, 0.3]], [[0.54, 0.1], [0.23, 0.3], [0.9, 0.1]], [[0.5, 0.3], [0.2, 0.1], [0.7, 0.3]], [[0.54, 0.1], [0.23, 0.3], [0.9, 0.1]]])\n",
    "print(Ex_2)\n",
    "print(Ex_2.shape)"
   ]
  },
  {
   "cell_type": "markdown",
   "metadata": {},
   "source": [
    "Secuencias de longitud variable"
   ]
  },
  {
   "cell_type": "code",
   "execution_count": 26,
   "metadata": {},
   "outputs": [
    {
     "name": "stdout",
     "output_type": "stream",
     "text": [
      "[list([[0.5, 0.3], [0.7, 0.3]])\n",
      " list([[0.54, 0.1], [0.23, 0.3], [0.9, 0.1]]) list([[0.7, 0.3]])\n",
      " list([[0.54, 0.1], [0.23, 0.3], [0.9, 0.1]])]\n",
      "(4,)\n",
      "(2, 2)\n",
      "(3, 2)\n",
      "(1, 2)\n"
     ]
    }
   ],
   "source": [
    "Ex_3 = np.array([[[0.5, 0.3], [0.7, 0.3]], [[0.54, 0.1], [0.23, 0.3], [0.9, 0.1]], [[0.7, 0.3]], [[0.54, 0.1], [0.23, 0.3], [0.9, 0.1]]])\n",
    "print(Ex_3)\n",
    "print(Ex_3.shape)\n",
    "print(np.array(Ex_3[0]).shape)\n",
    "print(np.array(Ex_3[1]).shape)\n",
    "print(np.array(Ex_3[2]).shape)"
   ]
  },
  {
   "cell_type": "markdown",
   "metadata": {},
   "source": [
    "En tensorflow es posible, en keras se suele hacer padding\n",
    "\n",
    "¿Que pasa cuando tenemos longitudes distintas? Analizar el unfolding"
   ]
  },
  {
   "cell_type": "markdown",
   "metadata": {},
   "source": [
    "## Ejemplos de preparación de datos para una RNN"
   ]
  },
  {
   "cell_type": "markdown",
   "metadata": {},
   "source": [
    "### Predicción del valor de la acción de una empresa"
   ]
  },
  {
   "cell_type": "markdown",
   "metadata": {},
   "source": [
    "Predecir el valor de las acciones de una compañia.\n",
    "- Se utilizarán las 5 observaciones anteriores \n",
    "- Tenemos los datos de 138 días\n",
    "- ¿Cuanto vale N, T, D?"
   ]
  },
  {
   "cell_type": "code",
   "execution_count": 27,
   "metadata": {},
   "outputs": [
    {
     "data": {
      "image/png": "[encoded data removed]",
      "text/plain": [
       "<matplotlib.figure.Figure at 0x11d67fb70>"
      ]
     },
     "metadata": {},
     "output_type": "display_data"
    },
    {
     "name": "stdout",
     "output_type": "stream",
     "text": [
      "138\n"
     ]
    }
   ],
   "source": [
    "apple_stock = np.loadtxt('apple/normalized_apple_prices.csv')\n",
    "from matplotlib import pyplot as plt\n",
    "plt.plot(apple_stock)\n",
    "plt.show()\n",
    "print(len(apple_stock))"
   ]
  },
  {
   "cell_type": "code",
   "execution_count": 28,
   "metadata": {
    "collapsed": true
   },
   "outputs": [],
   "source": [
    "from RNN_utils import window_transform_series\n",
    "X_, y = window_transform_series(apple_stock, 5)"
   ]
  },
  {
   "cell_type": "code",
   "execution_count": 29,
   "metadata": {},
   "outputs": [
    {
     "name": "stdout",
     "output_type": "stream",
     "text": [
      "(133, 5)\n",
      "[[-0.70062339 -0.82088484 -0.93938305 -0.9471652  -0.68785527]\n",
      " [-0.82088484 -0.93938305 -0.9471652  -0.68785527 -0.84325902]\n",
      " [-0.93938305 -0.9471652  -0.68785527 -0.84325902 -0.80532018]\n",
      " [-0.9471652  -0.68785527 -0.84325902 -0.80532018 -0.82058073]\n",
      " [-0.68785527 -0.84325902 -0.80532018 -0.82058073 -0.92023124]\n",
      " [-0.84325902 -0.80532018 -0.82058073 -0.92023124 -1.        ]\n",
      " [-0.80532018 -0.82058073 -0.92023124 -1.         -0.98814438]\n",
      " [-0.82058073 -0.92023124 -1.         -0.98814438 -0.85961411]\n",
      " [-0.92023124 -1.         -0.98814438 -0.85961411 -0.8706188 ]\n",
      " [-1.         -0.98814438 -0.85961411 -0.8706188  -0.92661512]]\n"
     ]
    }
   ],
   "source": [
    "print(X_.shape)\n",
    "print(X_[0:10,:])"
   ]
  },
  {
   "cell_type": "code",
   "execution_count": 30,
   "metadata": {
    "collapsed": true
   },
   "outputs": [],
   "source": [
    "# Parece un detalle pero las capas recurrentes en Keras exigen este formato\n",
    "X = X_.reshape(X_.shape[0], X_.shape[1], 1) "
   ]
  },
  {
   "cell_type": "code",
   "execution_count": 31,
   "metadata": {},
   "outputs": [
    {
     "name": "stdout",
     "output_type": "stream",
     "text": [
      "(N, T, D):\n",
      "(133, 5, 1)\n"
     ]
    }
   ],
   "source": [
    "print('(N, T, D):')\n",
    "print(X.shape)"
   ]
  },
  {
   "cell_type": "code",
   "execution_count": 32,
   "metadata": {},
   "outputs": [
    {
     "data": {
      "image/png": "[encoded data removed]",
      "text/plain": [
       "<matplotlib.figure.Figure at 0x11d67f780>"
      ]
     },
     "metadata": {},
     "output_type": "display_data"
    }
   ],
   "source": [
    "plt.plot(apple_stock[:30])\n",
    "i1 = 0\n",
    "plt.plot(range(i1,i1+5),X_[i1])\n",
    "plt.scatter(i1+5, y[i1], marker='x', color='k')\n",
    "i1 = 10\n",
    "plt.plot(range(i1,i1+5),X_[i1])\n",
    "plt.scatter(i1+5, y[i1], marker='x', color='k')\n",
    "\n",
    "plt.show()"
   ]
  },
  {
   "cell_type": "markdown",
   "metadata": {},
   "source": [
    "### Modelos de lenguaje\n",
    "Predecir el siguiente caractar en función de los caracteres anteriores\n",
    "- Utilizar one-hot encoding para los caracteres\n",
    "- Tamaño de ventana de 100\n",
    "- Cantidad total de caracteres de la obra: 67561\n",
    "- Cantidad de caracteres diferentes: 71"
   ]
  },
  {
   "cell_type": "code",
   "execution_count": 33,
   "metadata": {},
   "outputs": [
    {
     "name": "stdout",
     "output_type": "stream",
     "text": [
      "-----------------------------------------------------------------------------------------------------\n",
      "-----------------------------------------------------------------------------------------------------\n",
      "Cantidad de caracteres: 67561\n",
      "Cantidad de caracteres unicos: 71\n",
      "['\\n', ' ', '!', '(', ')', ',', '.', '1', '2', '3', '9', ':', ';', '?', 'A', 'B', 'C', 'D', 'E', 'F', 'G', 'H', 'I', 'J', 'L', 'M', 'N', 'O', 'P', 'Q', 'R', 'S', 'T', 'U', 'V', 'Y', 'Z', 'a', 'b', 'c', 'd', 'e', 'f', 'g', 'h', 'i', 'j', 'l', 'm', 'n', 'o', 'p', 'q', 'r', 's', 't', 'u', 'v', 'x', 'y', 'z', '¡', '¿', 'É', 'Ñ', 'á', 'é', 'í', 'ñ', 'ó', 'ú']\n",
      "-----------------------------------------------------------------------------------------------------\n",
      "-----------------------------------------------------------------------------------------------------\n",
      "\n",
      "BODAS DE SANGRE(1933)\n",
      "\n",
      "Poema trágico en tres actos y siete cuadros\n",
      "\n",
      "Personajes\n",
      " \n",
      "Madre\n",
      "Criada\n",
      "Leonardo\n",
      "Mozos\n",
      "Novia\n",
      "Vecina\n",
      "Novio\n",
      "Leñadores\n",
      "Suegra\n",
      "Muchachas\n",
      "Padre de la novia\n",
      "Mozos\n",
      "Mujer de Leonardo\n",
      "Luna\n",
      "Muerte (como mendiga)\n",
      "\n",
      "Acto primero\n",
      "\n",
      "CUADRO PRIMERO\n",
      "\n",
      "Habitación pintada de amarillo.\n",
      "\n",
      "NOVIO: (Entrando) Madre.\n",
      "\n",
      "MADRE: ¿Que?\n",
      "\n",
      "NOVIO:Me voy.\n",
      "\n",
      "MADRE: ¿Adónde?\n",
      "\n",
      "NOVIO:A la viña. (Va a salir)\n",
      "\n",
      "MADRE: Espera.\n",
      "\n",
      "NOVIO:¿Quieres algo?\n",
      "\n",
      "MADRE: Hijo, el almuerzo.\n",
      "\n",
      "NOVIO: Déjalo. Comeré uvas. Dame la navaja.\n",
      "\n",
      "MADRE: ¿Para qué?\n",
      "\n",
      "NOVIO: (Riendo) Para cortarlas.\n",
      "\n",
      "MADRE: (Entre dientes y buscándola) La navaja, la navaja... Malditas sean todas y el bribón que las inventó.\n",
      "\n",
      "NOVIO: Vamos a otro asunto.\n",
      "\n",
      "MADRE: Y las escopetas, y las pistolas, y el cuchillo más pequeño, y hasta las azadas y los bieldos de la era.\n",
      "\n",
      "NOVIO: Bueno.\n",
      "\n",
      "MADRE: Todo lo que puede cortar el cuerpo de un hombre. Un hombre hermoso, con su flor en la boca, que sale a las viñas o va a sus olivos propios, porque son de él, heredados...\n",
      "\n"
     ]
    }
   ],
   "source": [
    "text = open('federico-garcia-lorca/bodas_de_sangre.txt').read()\n",
    "number_of_chars = len(text)\n",
    "all_chars = sorted(set(text))\n",
    "print('-----------------------------------------------------------------------------------------------------')\n",
    "print('-----------------------------------------------------------------------------------------------------')\n",
    "print('Cantidad de caracteres: ' + str(number_of_chars))\n",
    "print('Cantidad de caracteres unicos: ' + str(len(all_chars)))\n",
    "print(all_chars)\n",
    "print('-----------------------------------------------------------------------------------------------------')\n",
    "print('-----------------------------------------------------------------------------------------------------')\n",
    "print()\n",
    "print(text[:997])"
   ]
  },
  {
   "cell_type": "code",
   "execution_count": 34,
   "metadata": {
    "collapsed": true
   },
   "outputs": [],
   "source": [
    "from RNN_utils import window_transform_text, encode_io_pairs\n",
    "\n",
    "window_size = 100\n",
    "step_size = 1\n",
    "inputs, outputs = window_transform_text(text,window_size,step_size)"
   ]
  },
  {
   "cell_type": "code",
   "execution_count": 35,
   "metadata": {},
   "outputs": [
    {
     "name": "stdout",
     "output_type": "stream",
     "text": [
      "BODAS DE SANGRE(1933)\n",
      "\n",
      "Poema trágico en tres actos y siete cuadros\n",
      "\n",
      "Personajes\n",
      " \n",
      "Madre\n",
      "Criada\n",
      "Leonar\n",
      "\n",
      "-----------------------------------------------------------------------------------------------------\n",
      "Salida: d\n",
      "-----------------------------------------------------------------------------------------------------\n",
      "\n",
      "ODAS DE SANGRE(1933)\n",
      "\n",
      "Poema trágico en tres actos y siete cuadros\n",
      "\n",
      "Personajes\n",
      " \n",
      "Madre\n",
      "Criada\n",
      "Leonard\n",
      "-----------------------------------------------------------------------------------------------------\n",
      "Salida: o\n",
      "-----------------------------------------------------------------------------------------------------\n"
     ]
    }
   ],
   "source": [
    "print(inputs[0])\n",
    "print()\n",
    "print('-----------------------------------------------------------------------------------------------------')\n",
    "print('Salida:',outputs[0])\n",
    "print('-----------------------------------------------------------------------------------------------------')\n",
    "print()\n",
    "print(inputs[1])\n",
    "print('-----------------------------------------------------------------------------------------------------')\n",
    "print('Salida:',outputs[1])\n",
    "print('-----------------------------------------------------------------------------------------------------')"
   ]
  },
  {
   "cell_type": "markdown",
   "metadata": {},
   "source": [
    "## ¿Como ingresamos a la red con caracteres?\n",
    "### Categorical Data (One-hot encoding)"
   ]
  },
  {
   "cell_type": "code",
   "execution_count": 36,
   "metadata": {
    "collapsed": true
   },
   "outputs": [],
   "source": [
    "X, y = encode_io_pairs(text, all_chars, window_size,step_size)"
   ]
  },
  {
   "cell_type": "code",
   "execution_count": 40,
   "metadata": {},
   "outputs": [
    {
     "name": "stdout",
     "output_type": "stream",
     "text": [
      "Caracteres codificado\n",
      "[[0 0 0 0 0 0 0 0 0 0 0 0 0 0 0 1 0 0 0 0 0 0 0 0 0 0 0 0 0 0 0 0 0 0 0 0 0\n",
      "  0 0 0 0 0 0 0 0 0 0 0 0 0 0 0 0 0 0 0 0 0 0 0 0 0 0 0 0 0 0 0 0 0 0]\n",
      " [0 0 0 0 0 0 0 0 0 0 0 0 0 0 0 0 0 0 0 0 0 0 0 0 0 0 0 1 0 0 0 0 0 0 0 0 0\n",
      "  0 0 0 0 0 0 0 0 0 0 0 0 0 0 0 0 0 0 0 0 0 0 0 0 0 0 0 0 0 0 0 0 0 0]\n",
      " [0 0 0 0 0 0 0 0 0 0 0 0 0 0 0 0 0 1 0 0 0 0 0 0 0 0 0 0 0 0 0 0 0 0 0 0 0\n",
      "  0 0 0 0 0 0 0 0 0 0 0 0 0 0 0 0 0 0 0 0 0 0 0 0 0 0 0 0 0 0 0 0 0 0]\n",
      " [0 0 0 0 0 0 0 0 0 0 0 0 0 0 1 0 0 0 0 0 0 0 0 0 0 0 0 0 0 0 0 0 0 0 0 0 0\n",
      "  0 0 0 0 0 0 0 0 0 0 0 0 0 0 0 0 0 0 0 0 0 0 0 0 0 0 0 0 0 0 0 0 0 0]\n",
      " [0 0 0 0 0 0 0 0 0 0 0 0 0 0 0 0 0 0 0 0 0 0 0 0 0 0 0 0 0 0 0 1 0 0 0 0 0\n",
      "  0 0 0 0 0 0 0 0 0 0 0 0 0 0 0 0 0 0 0 0 0 0 0 0 0 0 0 0 0 0 0 0 0 0]]\n"
     ]
    }
   ],
   "source": [
    "print('Caracteres codificado')\n",
    "print(X[0,0:5].astype(int))"
   ]
  },
  {
   "cell_type": "code",
   "execution_count": 42,
   "metadata": {},
   "outputs": [
    {
     "name": "stdout",
     "output_type": "stream",
     "text": [
      "(N,T,D):\n",
      "(67461, 100, 71)\n"
     ]
    }
   ],
   "source": [
    "print('(N,T,D):')\n",
    "print(X.shape)"
   ]
  },
  {
   "cell_type": "markdown",
   "metadata": {},
   "source": [
    "## RNN en Keras\n",
    "Definamos una capa RNN"
   ]
  },
  {
   "cell_type": "code",
   "execution_count": 43,
   "metadata": {},
   "outputs": [],
   "source": [
    "from keras.layers import SimpleRNN, Dense\n",
    "from keras.models import Sequential"
   ]
  },
  {
   "cell_type": "markdown",
   "metadata": {},
   "source": [
    "### SimpleRNN"
   ]
  },
  {
   "cell_type": "code",
   "execution_count": 45,
   "metadata": {},
   "outputs": [
    {
     "name": "stdout",
     "output_type": "stream",
     "text": [
      "_________________________________________________________________\n",
      "Layer (type)                 Output Shape              Param #   \n",
      "=================================================================\n",
      "simple_rnn_4 (SimpleRNN)     (None, 3)                 21        \n",
      "=================================================================\n",
      "Total params: 21\n",
      "Trainable params: 21\n",
      "Non-trainable params: 0\n",
      "_________________________________________________________________\n"
     ]
    }
   ],
   "source": [
    "rnn_neurons = 3\n",
    "time_steps = 100# T\n",
    "n_features = 3 # D\n",
    "input_shape = (time_steps, n_features)\n",
    "model = Sequential()\n",
    "model.add(SimpleRNN(rnn_neurons, input_shape = input_shape))\n",
    "model.summary()"
   ]
  },
  {
   "cell_type": "markdown",
   "metadata": {},
   "source": [
    "Observaciones:\n",
    "- Crece la cantidad de parametros con la cantidad de time_steps?\n",
    "- Como puedo utilizar un MLP para que tenga en cuenta los time_steps? Que desventajas tengo?\n",
    "- rnn_neurons = 1, n_features = 1, por que es 3? Cuales son en el diagrama?"
   ]
  },
  {
   "cell_type": "code",
   "execution_count": 46,
   "metadata": {
    "collapsed": true
   },
   "outputs": [],
   "source": [
    "def get_number_of_parameters(rnn_neurons, n_features):\n",
    "    parametros = rnn_neurons*n_features + rnn_neurons**2 + rnn_neurons\n",
    "    return parametros"
   ]
  },
  {
   "cell_type": "code",
   "execution_count": 47,
   "metadata": {},
   "outputs": [
    {
     "data": {
      "text/plain": [
       "21"
      ]
     },
     "execution_count": 47,
     "metadata": {},
     "output_type": "execute_result"
    }
   ],
   "source": [
    "get_number_of_parameters(3,3)"
   ]
  },
  {
   "cell_type": "markdown",
   "metadata": {},
   "source": [
    "### SimpleRNN + Dense para predecir caracteres\n",
    "Armar modelo con los siguientes datos:\n",
    "N,T,D = (67461, 100, 71)"
   ]
  },
  {
   "cell_type": "code",
   "execution_count": 48,
   "metadata": {},
   "outputs": [
    {
     "name": "stdout",
     "output_type": "stream",
     "text": [
      "_________________________________________________________________\n",
      "Layer (type)                 Output Shape              Param #   \n",
      "=================================================================\n",
      "simple_rnn_5 (SimpleRNN)     (None, 200)               54400     \n",
      "_________________________________________________________________\n",
      "dense_3 (Dense)              (None, 71)                14271     \n",
      "=================================================================\n",
      "Total params: 68,671\n",
      "Trainable params: 68,671\n",
      "Non-trainable params: 0\n",
      "_________________________________________________________________\n"
     ]
    }
   ],
   "source": [
    "# (67461, 100, 71)\n",
    "rnn_neurons = 200 # Hyperparametro para jugar\n",
    "time_steps = 100 # T\n",
    "n_features =  71# D\n",
    "input_shape = (time_steps, n_features)\n",
    "model = Sequential()\n",
    "model.add(SimpleRNN(rnn_neurons, input_shape = input_shape))\n",
    "model.add(Dense(n_features, input_shape = input_shape, activation=\"softmax\"))\n",
    "model.summary()"
   ]
  },
  {
   "cell_type": "markdown",
   "metadata": {},
   "source": [
    "Observaciones:\n",
    "- La cantidad de neuronas de la RNN queda para jugar (Overfitting, underfitting)"
   ]
  },
  {
   "cell_type": "markdown",
   "metadata": {},
   "source": [
    "### SimpleRNN + Dense para stock prices"
   ]
  },
  {
   "cell_type": "code",
   "execution_count": 101,
   "metadata": {},
   "outputs": [
    {
     "name": "stdout",
     "output_type": "stream",
     "text": [
      "_________________________________________________________________\n",
      "Layer (type)                 Output Shape              Param #   \n",
      "=================================================================\n",
      "simple_rnn_19 (SimpleRNN)    (None, 10)                120       \n",
      "_________________________________________________________________\n",
      "dense_28 (Dense)             (None, 1)                 11        \n",
      "=================================================================\n",
      "Total params: 131\n",
      "Trainable params: 131\n",
      "Non-trainable params: 0\n",
      "_________________________________________________________________\n"
     ]
    }
   ],
   "source": [
    "window_size = 40\n",
    "rnn_cells = 10\n",
    "model_rnn = Sequential()\n",
    "model_rnn.add(SimpleRNN(rnn_cells, input_shape = (window_size,1)))\n",
    "model_rnn.add(Dense(1))\n",
    "model_rnn.summary()"
   ]
  },
  {
   "cell_type": "markdown",
   "metadata": {},
   "source": [
    "Observaciones:\n",
    "- Capa densa. Que función de activación estamos usando?"
   ]
  },
  {
   "cell_type": "markdown",
   "metadata": {},
   "source": [
    "## Un error común"
   ]
  },
  {
   "cell_type": "code",
   "execution_count": 102,
   "metadata": {},
   "outputs": [
    {
     "name": "stdout",
     "output_type": "stream",
     "text": [
      "_________________________________________________________________\n",
      "Layer (type)                 Output Shape              Param #   \n",
      "=================================================================\n",
      "simple_rnn_20 (SimpleRNN)    (None, 10)                510       \n",
      "_________________________________________________________________\n",
      "dense_29 (Dense)             (None, 1)                 11        \n",
      "=================================================================\n",
      "Total params: 521\n",
      "Trainable params: 521\n",
      "Non-trainable params: 0\n",
      "_________________________________________________________________\n"
     ]
    }
   ],
   "source": [
    "model_rnn_error = Sequential()\n",
    "model_rnn_error.add(SimpleRNN(rnn_cells, input_shape = (1,window_size)))\n",
    "model_rnn_error.add(Dense(1))\n",
    "model_rnn_error.summary()"
   ]
  },
  {
   "cell_type": "markdown",
   "metadata": {},
   "source": [
    "Preguntas:\n",
    "- Que diferencia hay con la anterior?\n",
    "- Por que la diferencia en cantidad de parámetros?\n",
    "- Se puede pensar como un FNN (MLP)?"
   ]
  },
  {
   "cell_type": "markdown",
   "metadata": {},
   "source": [
    "## FFN (MLP)"
   ]
  },
  {
   "cell_type": "code",
   "execution_count": 73,
   "metadata": {},
   "outputs": [
    {
     "name": "stdout",
     "output_type": "stream",
     "text": [
      "_________________________________________________________________\n",
      "Layer (type)                 Output Shape              Param #   \n",
      "=================================================================\n",
      "dense_25 (Dense)             (None, 10)                410       \n",
      "_________________________________________________________________\n",
      "dense_26 (Dense)             (None, 1)                 11        \n",
      "=================================================================\n",
      "Total params: 421\n",
      "Trainable params: 421\n",
      "Non-trainable params: 0\n",
      "_________________________________________________________________\n"
     ]
    }
   ],
   "source": [
    "model_fnn = Sequential()\n",
    "model_fnn.add(Dense(rnn_cells, input_shape=(window_size,) ))\n",
    "model_fnn.add(Dense(1))\n",
    "model_fnn.summary()"
   ]
  },
  {
   "cell_type": "code",
   "execution_count": 105,
   "metadata": {},
   "outputs": [
    {
     "name": "stdout",
     "output_type": "stream",
     "text": [
      "RNN\n",
      "(1, 10)\n",
      "(10, 10)\n",
      "(10,)\n",
      "\n",
      "RNN common error\n",
      "(40, 10)\n",
      "(10, 10)\n",
      "(10,)\n",
      "\n",
      "MLP\n",
      "(40, 10)\n",
      "(10,)\n"
     ]
    }
   ],
   "source": [
    "print('RNN')\n",
    "print(model_rnn.layers[0].get_weights()[0].shape)\n",
    "print(model_rnn.layers[0].get_weights()[1].shape)\n",
    "print(model_rnn.layers[0].get_weights()[2].shape)\n",
    "print()\n",
    "print('RNN common error')\n",
    "print(model_rnn_error.layers[0].get_weights()[0].shape)\n",
    "print(model_rnn_error.layers[0].get_weights()[1].shape)\n",
    "print(model_rnn_error.layers[0].get_weights()[2].shape)\n",
    "print()\n",
    "print('MLP')\n",
    "print(model_fnn.layers[0].get_weights()[0].shape)\n",
    "print(model_fnn.layers[0].get_weights()[1].shape)"
   ]
  },
  {
   "cell_type": "markdown",
   "metadata": {},
   "source": [
    "## Stacking RNNs\n",
    "### Podemos stackear varias capas?\n",
    "![stack%20units.png](stack units.png)"
   ]
  },
  {
   "cell_type": "code",
   "execution_count": null,
   "metadata": {},
   "outputs": [],
   "source": [
    "# No funciona por que la salida no tiene la dimensión correcta\n",
    "# (67461, 100, 71)\n",
    "rnn_neurons = 100 # Hyperparametro para jugar\n",
    "time_steps = 100 # T\n",
    "n_features =  71# D\n",
    "input_shape = (time_steps, n_features)\n",
    "model = Sequential()\n",
    "model.add(SimpleRNN(rnn_neurons, input_shape = input_shape))\n",
    "model.add(SimpleRNN(rnn_neurons))\n",
    "model.add(Dense(n_features, input_shape = input_shape, activation=\"softmax\"))\n",
    "model.summary()"
   ]
  },
  {
   "cell_type": "markdown",
   "metadata": {},
   "source": [
    "Por que falla?"
   ]
  },
  {
   "cell_type": "code",
   "execution_count": null,
   "metadata": {},
   "outputs": [],
   "source": [
    "# (67461, 100, 71)\n",
    "rnn_neurons_1 = 200 # Hyperparametro para jugar\n",
    "rnn_neurons_2 = 150 # Hyperparametro para jugar\n",
    "time_steps = 100 # T\n",
    "n_features =  71# D\n",
    "input_shape = (time_steps, n_features)\n",
    "print(input_shape)\n",
    "model = Sequential()\n",
    "model.add(SimpleRNN(rnn_neurons_1, input_shape = input_shape, return_sequences=True))\n",
    "model.add(SimpleRNN(rnn_neurons_2))\n",
    "model.add(Dense(n_features, input_shape = input_shape, activation=\"softmax\"))\n",
    "model.summary()"
   ]
  },
  {
   "cell_type": "markdown",
   "metadata": {},
   "source": [
    "# BPTT (Back-Propagation Through Time)\n",
    "https://machinelearningmastery.com/truncated-backpropagation-through-time-in-keras/"
   ]
  },
  {
   "cell_type": "markdown",
   "metadata": {},
   "source": [
    "![BPTT.png](BPTT.png)"
   ]
  },
  {
   "cell_type": "markdown",
   "metadata": {},
   "source": [
    "Con esto podemos calcular la \"cross-entropy\" y derivar respecto a $W_o$,$W_h$ y W_x para hallar el gradiente."
   ]
  },
  {
   "cell_type": "markdown",
   "metadata": {},
   "source": [
    "![BPTT_graph.png](BPTT_graph.png)"
   ]
  },
  {
   "cell_type": "markdown",
   "metadata": {},
   "source": [
    "Problema: Vanishing/Exploding Gradient\n",
    "Soluciones:\n",
    "- Gradient Cliping\n",
    "- Truncated BPTT (Limitar la cantidad de unfoldings)\n",
    "- LSTM"
   ]
  },
  {
   "cell_type": "markdown",
   "metadata": {},
   "source": [
    "# LSTM (Long Short Term Memory)"
   ]
  },
  {
   "cell_type": "markdown",
   "metadata": {},
   "source": [
    "![lstm.png](lstm.png)"
   ]
  },
  {
   "cell_type": "markdown",
   "metadata": {},
   "source": [
    "- f -> forget Gate: \"Porcentaje\" que se queda de la LTM anterior\n",
    "- i -> Remeber Gate: \"Porcentaje\" que pasa de lo actual\n",
    "- o -> Learn Gate: \"Porcentaje\" a la salida o H (Recordar que h y la salida son lo mismo o STM)"
   ]
  },
  {
   "cell_type": "code",
   "execution_count": 106,
   "metadata": {},
   "outputs": [
    {
     "name": "stdout",
     "output_type": "stream",
     "text": [
      "_________________________________________________________________\n",
      "Layer (type)                 Output Shape              Param #   \n",
      "=================================================================\n",
      "lstm_1 (LSTM)                (None, 1)                 12        \n",
      "=================================================================\n",
      "Total params: 12\n",
      "Trainable params: 12\n",
      "Non-trainable params: 0\n",
      "_________________________________________________________________\n"
     ]
    }
   ],
   "source": [
    "from keras.layers import LSTM\n",
    "rnn_neurons = 1\n",
    "time_steps = 100 # T\n",
    "n_features = 1 # D\n",
    "input_shape = (time_steps, n_features)\n",
    "model = Sequential()\n",
    "model.add(LSTM(rnn_neurons, input_shape = input_shape))\n",
    "model.summary()"
   ]
  },
  {
   "cell_type": "code",
   "execution_count": 107,
   "metadata": {
    "collapsed": true
   },
   "outputs": [],
   "source": [
    "def get_number_of_LSTM_params(rnn_neurons, n_features):\n",
    "    return (rnn_neurons*n_features + rnn_neurons**2 + rnn_neurons)*4"
   ]
  },
  {
   "cell_type": "code",
   "execution_count": 108,
   "metadata": {},
   "outputs": [
    {
     "data": {
      "text/plain": [
       "12"
      ]
     },
     "execution_count": 108,
     "metadata": {},
     "output_type": "execute_result"
    }
   ],
   "source": [
    "get_number_of_LSTM_params(rnn_neurons, n_features)"
   ]
  }
 ],
 "metadata": {
  "kernelspec": {
   "display_name": "Python 3",
   "language": "python",
   "name": "python3"
  },
  "language_info": {
   "codemirror_mode": {
    "name": "ipython",
    "version": 3
   },
   "file_extension": ".py",
   "mimetype": "text/x-python",
   "name": "python",
   "nbconvert_exporter": "python",
   "pygments_lexer": "ipython3",
   "version": "3.6.2"
  },
  "toc": {
   "nav_menu": {},
   "number_sections": true,
   "sideBar": true,
   "skip_h1_title": true,
   "toc_cell": false,
   "toc_position": {},
   "toc_section_display": "block",
   "toc_window_display": false
  }
 },
 "nbformat": 4,
 "nbformat_minor": 2
}
