{
 "cells": [
  {
   "cell_type": "code",
   "execution_count": 1,
   "metadata": {},
   "outputs": [],
   "source": [
    "%load_ext autoreload\n",
    "%autoreload 2"
   ]
  },
  {
   "cell_type": "code",
   "execution_count": 2,
   "metadata": {
    "collapsed": true
   },
   "outputs": [],
   "source": [
    "import sys \n",
    "sys.path.append(\"/Users/julianganzabal/facultad/lab-ml/mllab-tools\")"
   ]
  },
  {
   "cell_type": "code",
   "execution_count": 3,
   "metadata": {},
   "outputs": [
    {
     "name": "stderr",
     "output_type": "stream",
     "text": [
      "Using TensorFlow backend.\n"
     ]
    }
   ],
   "source": [
    "from RNN_utils import get_deep_rnn, chars_to_one_hot, sample\n",
    "import numpy as np"
   ]
  },
  {
   "cell_type": "code",
   "execution_count": 4,
   "metadata": {},
   "outputs": [
    {
     "name": "stdout",
     "output_type": "stream",
     "text": [
      "input shape =  (100, 69)\n",
      "_________________________________________________________________\n",
      "Layer (type)                 Output Shape              Param #   \n",
      "=================================================================\n",
      "lstm_1 (LSTM)                (None, 100, 200)          216000    \n",
      "_________________________________________________________________\n",
      "lstm_2 (LSTM)                (None, 200)               320800    \n",
      "_________________________________________________________________\n",
      "dense_1 (Dense)              (None, 69)                13869     \n",
      "=================================================================\n",
      "Total params: 550,669\n",
      "Trainable params: 550,669\n",
      "Non-trainable params: 0\n",
      "_________________________________________________________________\n"
     ]
    }
   ],
   "source": [
    "model=get_deep_rnn((100, 69), dense_units=69)"
   ]
  },
  {
   "cell_type": "markdown",
   "metadata": {},
   "source": [
    "# Cargo pesos entrenados con 100 epochs"
   ]
  },
  {
   "cell_type": "code",
   "execution_count": 5,
   "metadata": {
    "collapsed": true
   },
   "outputs": [],
   "source": [
    "# bodes_sangre_LSTM_deep\n",
    "# bodes_sangre_LSTM_deep_dropout_04\n",
    "model.load_weights('bodes_sangre_LSTM_deep_dropout_04.hdf5')"
   ]
  },
  {
   "cell_type": "code",
   "execution_count": 6,
   "metadata": {
    "collapsed": true
   },
   "outputs": [],
   "source": [
    "def split_data_and_get_dicts(text, train_fraction=0.6):\n",
    "    number_of_chars = len(text)\n",
    "    validation_index = int(number_of_chars*train_fraction)\n",
    "    text_train = text[:validation_index]\n",
    "    text_validation = text[validation_index:]\n",
    "    chars_train = set(text_train)\n",
    "    chars_test = set(text_validation)\n",
    "    chars_set = chars_train.intersection(chars_test)\n",
    "    chars = sorted(list(chars_set))\n",
    "    chars_to_indices = dict((c, i) for i, c in enumerate(chars))  # map each unique character to unique integer\n",
    "    indices_to_chars = dict((i, c) for i, c in enumerate(chars))  # map each unique integer back to unique character\n",
    "    return text_train, text_validation, chars_to_indices, indices_to_chars, chars"
   ]
  },
  {
   "cell_type": "code",
   "execution_count": 7,
   "metadata": {
    "collapsed": true
   },
   "outputs": [],
   "source": [
    "text = open('bodas_de_sangre.txt').read()\n",
    "text_train, text_validation, chars_to_indices, indices_to_chars, chars = split_data_and_get_dicts(text)"
   ]
  },
  {
   "cell_type": "code",
   "execution_count": 8,
   "metadata": {},
   "outputs": [
    {
     "name": "stdout",
     "output_type": "stream",
     "text": [
      "MOZO 1: (Entrando) ¡Tienes que beber con nosotros!\n",
      "\n",
      "NOVIO: Estoy esperando a la novia.\n",
      "\n",
      "MOZO 2: ¡Ya \n"
     ]
    }
   ],
   "source": [
    "window_size = 100\n",
    "initial_char = 16\n",
    "initial_text = text_validation[initial_char:window_size+initial_char]\n",
    "print(initial_text)"
   ]
  },
  {
   "cell_type": "code",
   "execution_count": 9,
   "metadata": {},
   "outputs": [
    {
     "name": "stdout",
     "output_type": "stream",
     "text": [
      "(1, 100, 69)\n"
     ]
    }
   ],
   "source": [
    "X_test = chars_to_one_hot(initial_text, chars, chars_to_indices, window_size)\n",
    "print(X_test.shape)"
   ]
  },
  {
   "cell_type": "code",
   "execution_count": 10,
   "metadata": {},
   "outputs": [
    {
     "name": "stdout",
     "output_type": "stream",
     "text": [
      "[[  2.67503987e-04   1.47814702e-04   6.57919809e-05   2.55769206e-04\n",
      "    4.72744568e-06   2.37566219e-05   2.42656406e-05   2.75124034e-06\n",
      "    3.70589163e-07   4.40745573e-08   3.66884683e-06   1.64531014e-06\n",
      "    6.16733669e-05   7.41606846e-06   1.38893829e-05   8.09140984e-05\n",
      "    5.61719717e-05   4.66867023e-05   1.43318921e-05   3.72986892e-06\n",
      "    7.39483858e-06   2.96074359e-05   2.25158919e-06   1.05969375e-03\n",
      "    2.02942902e-04   3.09547031e-05   3.36788726e-05   1.23046717e-04\n",
      "    3.96312171e-05   1.16490744e-04   6.03278386e-05   4.03930717e-05\n",
      "    1.16660331e-05   1.97234622e-05   2.18111982e-05   1.14413998e-08\n",
      "    3.21773347e-03   1.22510111e-02   5.05333841e-02   1.11963928e-01\n",
      "    7.49744847e-02   1.27892541e-02   1.42459823e-02   2.28233393e-02\n",
      "    8.94578919e-03   8.82902532e-04   1.80775281e-02   6.82415739e-02\n",
      "    1.20949827e-01   1.26354326e-03   6.70492798e-02   4.00201790e-02\n",
      "    8.58152192e-03   8.35077539e-02   9.80713218e-02   1.13407187e-02\n",
      "    1.37485445e-01   2.20519229e-04   2.24742051e-02   2.44643452e-04\n",
      "    3.40347702e-04   8.25363910e-04   1.34833911e-09   3.73011595e-03\n",
      "    5.78770414e-04   1.17530581e-03   1.10614703e-04   5.82166285e-05\n",
      "    1.42767603e-04]]\n",
      "56\n",
      "v\n"
     ]
    }
   ],
   "source": [
    "probs = model.predict(X_test)\n",
    "print(probs)\n",
    "index = np.argmax(probs)\n",
    "print(index)\n",
    "print(indices_to_chars[index])"
   ]
  },
  {
   "cell_type": "markdown",
   "metadata": {},
   "source": [
    "## Muestrar modelo"
   ]
  },
  {
   "cell_type": "code",
   "execution_count": 11,
   "metadata": {},
   "outputs": [
    {
     "name": "stdout",
     "output_type": "stream",
     "text": [
      "[ 0.5   0.25  0.15  0.1 ]\n"
     ]
    },
    {
     "data": {
      "text/plain": [
       "0"
      ]
     },
     "execution_count": 11,
     "metadata": {},
     "output_type": "execute_result"
    }
   ],
   "source": [
    "temperatura = 1\n",
    "sample([0.5, 0.25, 0.15, 0.10], temperatura, verbose=True)"
   ]
  },
  {
   "cell_type": "code",
   "execution_count": 22,
   "metadata": {},
   "outputs": [
    {
     "name": "stdout",
     "output_type": "stream",
     "text": [
      "MOZO 1: (Entrando) ¡Tienes que beber con nosotros!\n",
      "\n",
      "NOVIO: Estoy esperando a la novia.\n",
      "\n",
      "MOZO 2: ¡Ya \n",
      "l\n",
      "u\n",
      "m\n",
      "t\n",
      "n\n",
      "t\n",
      "b\n",
      "d\n",
      "v\n",
      "t\n"
     ]
    }
   ],
   "source": [
    "window_size = 100\n",
    "initial_char = 16\n",
    "initial_text = text_validation[initial_char:window_size+initial_char]\n",
    "print(initial_text)\n",
    "X_test = chars_to_one_hot(initial_text, chars, chars_to_indices, window_size)\n",
    "probs = model.predict(X_test)\n",
    "for i in range(10):\n",
    "    my_sample = sample(probs[0], 1)\n",
    "    print(indices_to_chars[my_sample])"
   ]
  },
  {
   "cell_type": "code",
   "execution_count": 21,
   "metadata": {},
   "outputs": [
    {
     "name": "stdout",
     "output_type": "stream",
     "text": [
      "ovia. (Se va.)\n",
      "\n",
      "MOZO 1: (Entrando) ¡Tienes que beber con nosotros!\n",
      "\n",
      "NOVIO: Estoy esperando a la novi\n",
      "a\n",
      "a\n",
      "a\n",
      "a\n",
      "a\n",
      "a\n",
      "a\n",
      "a\n",
      "a\n",
      "o\n"
     ]
    }
   ],
   "source": [
    "window_size = 100\n",
    "initial_char = 0\n",
    "initial_text = text_validation[initial_char:window_size+initial_char]\n",
    "print(initial_text)\n",
    "X_test = chars_to_one_hot(initial_text, chars, chars_to_indices, window_size)\n",
    "probs = model.predict(X_test)\n",
    "for i in range(10):\n",
    "    my_sample = sample(probs[0], 1)\n",
    "    print(indices_to_chars[my_sample])"
   ]
  },
  {
   "cell_type": "markdown",
   "metadata": {},
   "source": [
    "### Corrida 1"
   ]
  },
  {
   "cell_type": "code",
   "execution_count": 29,
   "metadata": {},
   "outputs": [
    {
     "name": "stdout",
     "output_type": "stream",
     "text": [
      "MOZO 1: (Entrando) ¡Tienes que beber con nosotros!\n",
      "\n",
      "NOVIO: Estoy esperando a la novia.\n",
      "\n",
      "MOZO 2: ¡Ya \n",
      "---------------------------------------------------\n",
      "\n",
      "MOZO 1: (Entrando) ¡Tienes que beber con nosotros!\n",
      "\n",
      "NOVIO: Estoy esperando a la novia.\n",
      "\n",
      "MOZO 2: ¡Ya aria e anvda qe asa lnn a te a co iu va o do e cta mma go as qe le e e vuo mo cue aodie oa aa ala do ee da vl ceca la e le la le es lne mo ao an a ae ie arimcava en e e a ce a ta an ea ao ce me a qe ca tde ca ioro uo ao aro . ce ro le o ar a eata arra a funa a ura mua or e a en o ern aua auce qere aese a ena aa iera y ues nortd o la cu mo e o la ao os el ia mo ca arv ue o o a ue nese o a earan oara e ln eo earo e ae are y era arlla as ao es uu on at eer a ru l jl ra e es ca aua e ra dar ee arra o are a e oe a asra a e rn e da co ce uina.\n",
      "\n",
      "\n",
      "OOIR:: e ia le ama on re ere penasa l es pe ca es co e nuaeno o e ve o ma an al a lo a eo e ro.\n",
      "\n",
      "\n",
      "ODODE :(ao oa a ua an e o a aa o ee e ena csna ao a mb nre dl  na en ee eeie eo lo ans er e es . ll era uere el o ea q erra tera.\n",
      "\n",
      "MMIR:: me on a ura po ere das.\n",
      "\n",
      "MADA:  eua acne dma.\n",
      "\n",
      "OOID:: Peneres a he ler lo m es ao a ue e ee aoda le anro ene do do cj ta anna la de ao as no avre as do be a e en ce ao. ae a ao la ena ta a or  oe eo a arro jo iu anda o\n"
     ]
    }
   ],
   "source": [
    "window_size = 100\n",
    "initial_char = 16\n",
    "initial_text = text_validation[initial_char:window_size+initial_char]\n",
    "\n",
    "N = 1000\n",
    "X_text_str = initial_text\n",
    "print(initial_text)\n",
    "print('---------------------------------------------------')\n",
    "print()\n",
    "for i in range(N):\n",
    "    X_test = chars_to_one_hot(X_text_str[i:], chars, chars_to_indices, window_size)\n",
    "    probs = model.predict(X_test)\n",
    "    my_sample=sample(probs[0], 0.5)\n",
    "    new_char = indices_to_chars[my_sample]\n",
    "    X_text_str = X_text_str + new_char\n",
    "print(X_text_str)"
   ]
  },
  {
   "cell_type": "markdown",
   "metadata": {},
   "source": [
    "### Corrida 2"
   ]
  },
  {
   "cell_type": "code",
   "execution_count": 30,
   "metadata": {},
   "outputs": [
    {
     "name": "stdout",
     "output_type": "stream",
     "text": [
      "MOZO 1: (Entrando) ¡Tienes que beber con nosotros!\n",
      "\n",
      "NOVIO: Estoy esperando a la novia.\n",
      "\n",
      "MOZO 2: ¡Ya \n",
      "---------------------------------------------------\n",
      "\n",
      "MOZO 1: (Entrando) ¡Tienes que beber con nosotros!\n",
      "\n",
      "NOVIO: Estoy esperando a la novia.\n",
      "\n",
      "MOZO 2: ¡Ya me ana ere re qe ens le o ta ma e le e e mon ua e nr a ca o a losdo e o e ao esra mo e ce oo a ee la iva ie ue enra aa av mo aeara den ce ln re ca ao rauo ea e rcqe ieo a ae aass eare aurn eo e ano derba a n arar os e ae a ta ara ale aa lue o e anes cura ua aa euja en ea orceo, e ue a ao e a a qo o pe ie pue des.\n",
      "\n",
      "\n",
      "OIIA: TE a e me a e a ee a lro do qo te co me din ue e ctnsdo a uoe lu oo a as sj a e ue a mo enrn a aca o ur er e lo he ara ee ene o le os ete a eí rerl o ie mes ae o o pe cugbma co assa\n",
      "\n",
      "\n",
      "\n",
      "OVI:   eesa an e ao an io a uo o a mea a an os le en a o le as lo a ll o ne a ie ian. Po e qaro enno aa a e e ue od a ue ia quo po uace ae ll tca o a ve e sn a ae a al a e as ene e be mos y ss .e ,a to emrs as ea a ue a al a lo e ape a oe eo o nuene tire ta ars an pa ene cesdo o e e ua eo to s me de plr on. o ola eo sa e nume eo ae.\n",
      "\n",
      "\n",
      "RAIE:: en lo aa ce an ara ala oo en aa oe uo en ia a a o ae o co le o. o ua oo ao euva a era a olr)\n",
      "\n",
      "\n",
      "OODR:: Ao cn eaaa an garo oqe onre de ana e ta er ua \n"
     ]
    }
   ],
   "source": [
    "window_size = 100\n",
    "initial_char = 16\n",
    "initial_text = text_validation[initial_char:window_size+initial_char]\n",
    "\n",
    "N = 1000\n",
    "X_text_str = initial_text\n",
    "print(initial_text)\n",
    "print('---------------------------------------------------')\n",
    "print()\n",
    "for i in range(N):\n",
    "    X_test = chars_to_one_hot(X_text_str[i:], chars, chars_to_indices, window_size)\n",
    "    probs = model.predict(X_test)\n",
    "    my_sample=sample(probs[0], 0.5)\n",
    "    new_char = indices_to_chars[my_sample]\n",
    "    X_text_str = X_text_str + new_char\n",
    "print(X_text_str)"
   ]
  },
  {
   "cell_type": "markdown",
   "metadata": {},
   "source": [
    "- Mantiene estructuta de obra de teatro\n",
    "- Abre y cierra signo de pregunta y/o admiración\n",
    "- Abre y cierra parentesis\n",
    "- Articulo mas sustantivo con género"
   ]
  },
  {
   "cell_type": "markdown",
   "metadata": {},
   "source": [
    "# Poco entrenamiento: 1 Epoch"
   ]
  },
  {
   "cell_type": "code",
   "execution_count": 26,
   "metadata": {},
   "outputs": [],
   "source": [
    "#bodes_sangre_LSTM_deep_dropout_04_2_1_epochs\n",
    "model.load_weights('bodes_sangre_LSTM_deep_dropout_04_2_1_epochs.hdf5')"
   ]
  },
  {
   "cell_type": "code",
   "execution_count": 31,
   "metadata": {
    "collapsed": true
   },
   "outputs": [
    {
     "name": "stdout",
     "output_type": "stream",
     "text": [
      "MOZO 1: (Entrando) ¡Tienes que beber con nosotros!\n",
      "\n",
      "NOVIO: Estoy esperando a la novia.\n",
      "\n",
      "MOZO 2: ¡Ya \n",
      "---------------------------------------------------\n",
      "\n",
      "MOZO 1: (Entrando) ¡Tienes que beber con nosotros!\n",
      "\n",
      "NOVIO: Estoy esperando a la novia.\n",
      "\n",
      "MOZO 2: ¡Ya ae be ao ere a eo dlo e e ans e e cus ce e oso e aua e ore sle e ane ca uu po er ae o o cro e ne la ea or re ia les ua.\n",
      "\n",
      "UNIIE:: o e lira en e re ce ca alr ode aa aro ld e o e v os a mie odo a uo ten err e a cana ela ce en a ne cere a ce do er es qe e oes o va ae era a e as a a ana on e e cod a es lora do qa co ii e eo arena e hue a na ace de e aia an o an a e ta o er a e o a a ero ea ce es oe e ee ata e lrrdn a e iároe.\n",
      "\n",
      "\n",
      "CDIR::: oo aa acue ae la aa a nra ce aa mo lo pa o e a ee oo an er a as de a oc te da as e e a a a onnera qe te mas enle o o te menre mua aerue ters ea e ca le a as o ee ca ara eia er dua\n",
      "\n",
      "\n",
      "UACRA:  ¿s qo nre an as arr ei ona me o o es y ee qa ie do e lo.\n",
      "\n",
      "MOID:: ¿s o ua o on ea ca aa ale aara, e a asn uea o e ess la pe as a att pro o ta co a eo cn a ero a co as qe caro o re ea are ula es la tura e me den as ddo tosa qee aera a ale enra em enaa aa ara e e oa anla qe lu re la on epto e e nas do ae a e aa aas a e vera a e e cne aa onae ae ta anr es as aa e ua ae e be an\n"
     ]
    }
   ],
   "source": [
    "window_size = 100\n",
    "initial_char = 16\n",
    "initial_text = text_validation[initial_char:window_size+initial_char]\n",
    "\n",
    "N = 1000\n",
    "X_text_str = initial_text\n",
    "print(initial_text)\n",
    "print('---------------------------------------------------')\n",
    "print()\n",
    "for i in range(N):\n",
    "    X_test = chars_to_one_hot(X_text_str[i:], chars, chars_to_indices, window_size)\n",
    "    probs = model.predict(X_test)\n",
    "    my_sample=sample(probs[0], 0.5)\n",
    "    new_char = indices_to_chars[my_sample]\n",
    "    X_text_str = X_text_str + new_char\n",
    "print(X_text_str)"
   ]
  }
 ],
 "metadata": {
  "kernelspec": {
   "display_name": "Python 3",
   "language": "python",
   "name": "python3"
  },
  "language_info": {
   "codemirror_mode": {
    "name": "ipython",
    "version": 3
   },
   "file_extension": ".py",
   "mimetype": "text/x-python",
   "name": "python",
   "nbconvert_exporter": "python",
   "pygments_lexer": "ipython3",
   "version": "3.6.2"
  },
  "toc": {
   "nav_menu": {},
   "number_sections": true,
   "sideBar": true,
   "skip_h1_title": true,
   "toc_cell": false,
   "toc_position": {},
   "toc_section_display": "block",
   "toc_window_display": false
  }
 },
 "nbformat": 4,
 "nbformat_minor": 2
}
